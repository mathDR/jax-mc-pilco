{
 "cells": [
  {
   "cell_type": "markdown",
   "id": "f8e9abc4",
   "metadata": {},
   "source": [
    "# Testing the PILCO framework"
   ]
  },
  {
   "cell_type": "code",
   "execution_count": 1,
   "id": "b17459c9",
   "metadata": {},
   "outputs": [],
   "source": [
    "# %load ~/dev/marthaler/header.py\n",
    "%matplotlib inline\n",
    "%config InlineBackend.figure_format = 'retina'\n",
    "\n",
    "%load_ext autoreload\n",
    "%autoreload 2"
   ]
  },
  {
   "cell_type": "code",
   "execution_count": 2,
   "id": "472b1081",
   "metadata": {},
   "outputs": [],
   "source": [
    "# Enable Float64 for more stable matrix inversions.\n",
    "import jax\n",
    "import equinox as eqx\n",
    "from jax import Array, config\n",
    "import jax.numpy as jnp\n",
    "import numpy as np\n",
    "import jax.random as jr\n",
    "from jaxtyping import ArrayLike, install_import_hook, Array, Float, Int, PyTree  \n",
    "import matplotlib as mpl\n",
    "import matplotlib.pyplot as plt\n",
    "\n",
    "config.update(\"jax_enable_x64\", True)\n",
    "\n",
    "cols = mpl.rcParams[\"axes.prop_cycle\"].by_key()[\"color\"]"
   ]
  },
  {
   "cell_type": "code",
   "execution_count": 3,
   "id": "65f9622e-a274-4455-b8e1-9e140aaa179e",
   "metadata": {},
   "outputs": [],
   "source": [
    "import gymnasium as gym"
   ]
  },
  {
   "cell_type": "code",
   "execution_count": 4,
   "id": "fe0be395-3a8b-4d20-938c-17ce1dbde1a2",
   "metadata": {},
   "outputs": [],
   "source": [
    "from jax_mc_pilco.controllers import Controller, RandomController, SumOfGaussians\n",
    "from jax_mc_pilco.rewards import pendulum_cost#, cart_pole_cost\n",
    "from jax_mc_pilco.model_learning.gp_models import MGPR\n",
    "from jax_mc_pilco.policy_learning.rollout import fit_controller\n",
    "from jax_mc_pilco.simulators.simulation import remake_state, sample_from_environment"
   ]
  },
  {
   "cell_type": "code",
   "execution_count": 5,
   "id": "f8e73c67-3fe9-4ecb-a2ad-17fd972a7780",
   "metadata": {},
   "outputs": [],
   "source": [
    "import optax as ox"
   ]
  },
  {
   "cell_type": "code",
   "execution_count": 6,
   "id": "5d4feb25-b36f-48aa-a392-582416d4ce0e",
   "metadata": {},
   "outputs": [],
   "source": [
    "from IPython import display"
   ]
  },
  {
   "cell_type": "markdown",
   "id": "fd668a3b-8572-48af-9f17-dc2e09017016",
   "metadata": {},
   "source": [
    "## Globals"
   ]
  },
  {
   "cell_type": "code",
   "execution_count": 7,
   "id": "ff220556-f495-4132-b368-e40580ee2d20",
   "metadata": {},
   "outputs": [],
   "source": [
    "num_particles = 400\n",
    "num_trials = 8\n",
    "T_sampling = 0.05\n",
    "T_exploration = 0.35\n",
    "T_control = 3.0\n",
    "sim_timestep = 0.01\n",
    "starting_dropout_probability = 0.25\n",
    "control_horizon = int(T_control / T_sampling)\n",
    "num_basis = 200\n",
    "umax = 2.0"
   ]
  },
  {
   "cell_type": "markdown",
   "id": "2c4810d6",
   "metadata": {},
   "source": [
    "## Generate the environments"
   ]
  },
  {
   "cell_type": "code",
   "execution_count": 8,
   "id": "04b1bcf0",
   "metadata": {},
   "outputs": [],
   "source": [
    "env = gym.make(\"Pendulum-v1\")\n",
    "# env_test = gym.make(\"Pendulum-v1\", render_mode=\"rgb_array\")"
   ]
  },
  {
   "cell_type": "code",
   "execution_count": 9,
   "id": "418b8536-8111-404f-b7df-cb6bc14ad347",
   "metadata": {},
   "outputs": [],
   "source": [
    "action_dim = env.action_space.shape[0]\n",
    "x, _ = env.reset()\n",
    "state_dim = x.shape[0]\n",
    "# state is cos_theta, sin_theta, theta_dot"
   ]
  },
  {
   "cell_type": "code",
   "execution_count": 10,
   "id": "08deefba-7d40-4a75-86e9-bdf9b0912bd2",
   "metadata": {},
   "outputs": [],
   "source": [
    "timesteps = np.linspace(0, T_exploration, int(T_exploration / sim_timestep) + 1)"
   ]
  },
  {
   "cell_type": "markdown",
   "id": "e475900c-8977-41f6-8183-3d1a8451a34d",
   "metadata": {},
   "source": [
    "## Initialize the Controllers"
   ]
  },
  {
   "cell_type": "code",
   "execution_count": 13,
   "id": "4f5af965-39c0-4a50-806a-524ca09db722",
   "metadata": {},
   "outputs": [],
   "source": [
    "key = jr.key(42)"
   ]
  },
  {
   "cell_type": "code",
   "execution_count": 14,
   "id": "30a15991-abe0-470d-8f34-82cbd1e4a463",
   "metadata": {},
   "outputs": [],
   "source": [
    "random_policy = RandomController(state_dim, action_dim, to_squash=True, max_action=umax)\n",
    "\n",
    "control_policy = SumOfGaussians(\n",
    "    state_dim,\n",
    "    action_dim,\n",
    "    num_basis,\n",
    "    initial_log_lengthscales=None,\n",
    "    initial_centers=None,\n",
    "    use_dropout=True,\n",
    "    dropout_probability=starting_dropout_probability,\n",
    "    to_squash=True,\n",
    "    max_action=umax,\n",
    "    key=key\n",
    ")"
   ]
  },
  {
   "cell_type": "code",
   "execution_count": null,
   "id": "69f32e69-f041-4245-9914-c13b991c3cb2",
   "metadata": {},
   "outputs": [],
   "source": []
  },
  {
   "cell_type": "code",
   "execution_count": null,
   "id": "4487bac4-df59-43d2-bf17-f8d5d9d18837",
   "metadata": {},
   "outputs": [],
   "source": []
  },
  {
   "cell_type": "markdown",
   "id": "5c95f419-ecb0-4d07-a715-82ee10bf8757",
   "metadata": {},
   "source": [
    "# Main Loop"
   ]
  },
  {
   "cell_type": "code",
   "execution_count": null,
   "id": "a99cab5e-b4cd-4ce2-8338-cf13798b518e",
   "metadata": {},
   "outputs": [],
   "source": [
    "states = []\n",
    "actions = []\n",
    "epsilon = 1e-4\n",
    "for trial in range(10):\n",
    "    optimizer = ox.inject_hyperparams(ox.adam)(learning_rate=1e-2)\n",
    "    if trial == 0:\n",
    "        exploration_policy = random_policy\n",
    "        num_opt_steps = 2000\n",
    "    else:\n",
    "        exploration_policy = control_policy\n",
    "        num_opt_steps = 4000\n",
    "\n",
    "    key, subkey = jr.split(key) \n",
    "    these_states, these_actions = sample_from_environment(env, timesteps, num_trials, exploration_policy, subkey)\n",
    "    states.extend(these_states)\n",
    "    actions.extend(these_actions)\n",
    "    \n",
    "    model = MGPR(states=jnp.array(states),actions=jnp.array(actions))\n",
    "    model.optimize()\n",
    "    \n",
    "    \n",
    "    factor = min(1.,max(0.,trial-5/20.))\n",
    "    if factor == 0.:\n",
    "        init_state = [0.,0.]\n",
    "    else:\n",
    "        key, subkey = jr.split(key)\n",
    "        init_state = [2*factor*jnp.pi*jr.uniform(subkey)-factor*jnp.pi]\n",
    "        key, subkey = jr.split(key)\n",
    "        init_state.extend([2*factor*epsilon*jr.uniform(subkey)-factor*epsilon])\n",
    "    key, subkey = jr.split(key)\n",
    "    control_policy, losses = fit_controller(\n",
    "        policy=control_policy,\n",
    "        starting_dropout_probability=starting_dropout_probability,\n",
    "        env=env,\n",
    "        num_particles=num_particles,\n",
    "        initial_state=init_state,\n",
    "        timesteps=jnp.arange(control_horizon),\n",
    "        gp_model=model,\n",
    "        obj_func=pendulum_cost,\n",
    "        optim=optimizer,\n",
    "        num_iters=num_opt_steps,\n",
    "        key=subkey,\n",
    "    )\n",
    "    plt.plot(losses)\n",
    "    plt.title(trial)\n",
    "    plt.show()"
   ]
  },
  {
   "cell_type": "code",
   "execution_count": 38,
   "id": "d2633300-204a-4c24-855c-97e594215314",
   "metadata": {},
   "outputs": [
    {
     "data": {
      "image/png": "[encoded data removed]",
      "text/plain": [
       "<Figure size 640x480 with 1 Axes>"
      ]
     },
     "metadata": {
      "image/png": {
       "height": 418,
       "width": 425
      }
     },
     "output_type": "display_data"
    }
   ],
   "source": [
    "# Now try this policy on the real system\n",
    "# state, _ = env_test.reset()\n",
    "# key, subkey = jr.split(key)\n",
    "# u = control_policy(state,timestep)\n",
    "# # Randomly sample some points\n",
    "# img = plt.imshow(env_test.render()) # only call this once\n",
    "# for timestep in np.linspace(0,5000*T_exploration,int(T_exploration/sim_timestep)+1):\n",
    "#     z = env_test.step(np.array(u))\n",
    "#     state = z[0]\n",
    "#     r = z[1]\n",
    "#     key, subkey = jr.split(key)\n",
    "#     u = control_policy(state,timestep)\n",
    "#     img.set_data(env_test.render()) # just update the data\n",
    "#     display.display(plt.gcf())\n",
    "#     display.clear_output(wait=True)"
   ]
  },
  {
   "cell_type": "code",
   "execution_count": null,
   "id": "159ea7ba-35f5-4a35-b7d3-16bc67ce92f4",
   "metadata": {},
   "outputs": [],
   "source": []
  },
  {
   "cell_type": "code",
   "execution_count": null,
   "id": "e987fcb2-68ff-4806-92e1-54fed0428840",
   "metadata": {},
   "outputs": [],
   "source": []
  }
 ],
 "metadata": {
  "kernelspec": {
   "display_name": "Python 3 (ipykernel)",
   "language": "python",
   "name": "python3"
  },
  "language_info": {
   "codemirror_mode": {
    "name": "ipython",
    "version": 3
   },
   "file_extension": ".py",
   "mimetype": "text/x-python",
   "name": "python",
   "nbconvert_exporter": "python",
   "pygments_lexer": "ipython3",
   "version": "3.11.12"
  }
 },
 "nbformat": 4,
 "nbformat_minor": 5
}
