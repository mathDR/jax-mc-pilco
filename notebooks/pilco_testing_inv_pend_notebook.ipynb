{
 "cells": [
  {
   "cell_type": "markdown",
   "id": "f8e9abc4",
   "metadata": {},
   "source": [
    "# Testing the PILCO framework"
   ]
  },
  {
   "cell_type": "code",
   "execution_count": 1,
   "id": "b17459c9",
   "metadata": {},
   "outputs": [],
   "source": [
    "# %load ~/dev/marthaler/header.py\n",
    "%matplotlib inline\n",
    "%config InlineBackend.figure_format = 'retina'\n",
    "\n",
    "%load_ext autoreload\n",
    "%autoreload 2"
   ]
  },
  {
   "cell_type": "code",
   "execution_count": 2,
   "id": "472b1081",
   "metadata": {},
   "outputs": [],
   "source": [
    "# Enable Float64 for more stable matrix inversions.\n",
    "import jax\n",
    "import equinox as eqx\n",
    "from jax import Array, config\n",
    "import jax.numpy as jnp\n",
    "import numpy as np\n",
    "import jax.random as jr\n",
    "from jaxtyping import ArrayLike, install_import_hook, Array, Float, Int, PyTree  \n",
    "import matplotlib as mpl\n",
    "import matplotlib.pyplot as plt\n",
    "\n",
    "config.update(\"jax_enable_x64\", True)\n",
    "\n",
    "cols = mpl.rcParams[\"axes.prop_cycle\"].by_key()[\"color\"]"
   ]
  },
  {
   "cell_type": "code",
   "execution_count": 3,
   "id": "2261b6ab-3385-4f7b-91e4-54076de24a3b",
   "metadata": {},
   "outputs": [],
   "source": [
    "import optax as ox\n",
    "import numpy as np\n",
    "from typing import Callable, List, Tuple"
   ]
  },
  {
   "cell_type": "code",
   "execution_count": 4,
   "id": "65f9622e-a274-4455-b8e1-9e140aaa179e",
   "metadata": {},
   "outputs": [],
   "source": [
    "import gymnasium as gym"
   ]
  },
  {
   "cell_type": "code",
   "execution_count": 5,
   "id": "fe0be395-3a8b-4d20-938c-17ce1dbde1a2",
   "metadata": {},
   "outputs": [],
   "source": [
    "from jax_mc_pilco.controllers import Controller, RandomController, SumOfGaussians\n",
    "from jax_mc_pilco.rewards import pendulum_cost#, cart_pole_cost\n",
    "from jax_mc_pilco.model_learning.gp_models import IMGPR\n",
    "from jax_mc_pilco.policy_learning.rollout import fit_controller\n",
    "from jax_mc_pilco.simulators.simulation import remake_state, sample_from_environment"
   ]
  },
  {
   "cell_type": "code",
   "execution_count": 6,
   "id": "f8e73c67-3fe9-4ecb-a2ad-17fd972a7780",
   "metadata": {},
   "outputs": [],
   "source": [
    "import optax as ox"
   ]
  },
  {
   "cell_type": "code",
   "execution_count": 7,
   "id": "5d4feb25-b36f-48aa-a392-582416d4ce0e",
   "metadata": {},
   "outputs": [],
   "source": [
    "from IPython import display"
   ]
  },
  {
   "cell_type": "markdown",
   "id": "fd668a3b-8572-48af-9f17-dc2e09017016",
   "metadata": {},
   "source": [
    "## Globals"
   ]
  },
  {
   "cell_type": "code",
   "execution_count": 8,
   "id": "ff220556-f495-4132-b368-e40580ee2d20",
   "metadata": {},
   "outputs": [],
   "source": [
    "num_particles = 400\n",
    "num_trials = 8\n",
    "T_sampling = 0.05\n",
    "T_exploration = 0.35\n",
    "T_control = 3.0\n",
    "sim_timestep = 0.01\n",
    "control_horizon = int(T_control / T_sampling)\n",
    "num_basis = 200\n",
    "umax = 2.0\n",
    "\n",
    "num_controllers_in_ensemble = 8"
   ]
  },
  {
   "cell_type": "markdown",
   "id": "2c4810d6",
   "metadata": {},
   "source": [
    "## Generate the environments"
   ]
  },
  {
   "cell_type": "code",
   "execution_count": 9,
   "id": "04b1bcf0",
   "metadata": {},
   "outputs": [],
   "source": [
    "env = gym.make(\"Pendulum-v1\")"
   ]
  },
  {
   "cell_type": "code",
   "execution_count": 10,
   "id": "418b8536-8111-404f-b7df-cb6bc14ad347",
   "metadata": {},
   "outputs": [],
   "source": [
    "action_dim = env.action_space.shape[0]\n",
    "x, _ = env.reset()\n",
    "state_dim = x.shape[0]\n",
    "# state is cos_theta, sin_theta, theta_dot"
   ]
  },
  {
   "cell_type": "code",
   "execution_count": 11,
   "id": "08deefba-7d40-4a75-86e9-bdf9b0912bd2",
   "metadata": {},
   "outputs": [],
   "source": [
    "timesteps = np.linspace(0, T_exploration, int(T_exploration / sim_timestep) + 1)"
   ]
  },
  {
   "cell_type": "markdown",
   "id": "e475900c-8977-41f6-8183-3d1a8451a34d",
   "metadata": {},
   "source": [
    "## Initialize the Controllers"
   ]
  },
  {
   "cell_type": "code",
   "execution_count": 12,
   "id": "4f5af965-39c0-4a50-806a-524ca09db722",
   "metadata": {},
   "outputs": [],
   "source": [
    "key = jr.key(42)"
   ]
  },
  {
   "cell_type": "code",
   "execution_count": 13,
   "id": "30a15991-abe0-470d-8f34-82cbd1e4a463",
   "metadata": {},
   "outputs": [],
   "source": [
    "random_policy = RandomController(state_dim, action_dim, to_squash=True, max_action=umax)"
   ]
  },
  {
   "cell_type": "markdown",
   "id": "5c95f419-ecb0-4d07-a715-82ee10bf8757",
   "metadata": {},
   "source": [
    "# Main Loop"
   ]
  },
  {
   "cell_type": "code",
   "execution_count": 14,
   "id": "a99cab5e-b4cd-4ce2-8338-cf13798b518e",
   "metadata": {},
   "outputs": [],
   "source": [
    "states = []\n",
    "actions = []\n",
    "epsilon = 1e-4\n",
    "for trial in range(10):\n",
    "    optimizer = ox.inject_hyperparams(ox.adam)(learning_rate=1e-2)\n",
    "    if trial == 0:\n",
    "        exploration_policy = random_policy\n",
    "        num_opt_steps = 2000\n",
    "    else:\n",
    "        exploration_policy = control_policy\n",
    "        num_opt_steps = 4000\n",
    "\n",
    "    key, subkey = jr.split(key) \n",
    "    these_states, these_actions = sample_from_environment(env, timesteps, num_trials, exploration_policy, subkey)\n",
    "    states.extend(these_states)\n",
    "    actions.extend(these_actions)\n",
    "    \n",
    "    model = IMGPR(states=jnp.array(states),actions=jnp.array(actions))\n",
    "    model.optimize()\n",
    "    \n",
    "    factor = min(1.,max(0.,(trial-5)/20.))\n",
    "    if factor == 0.:\n",
    "        init_state = [1e-2,1e-2] # Cannot use zero because of the reset\n",
    "    else:\n",
    "        key, subkey = jr.split(key)\n",
    "        init_state = [float(factor*jnp.pi*jr.uniform(subkey))]\n",
    "        key, subkey = jr.split(key)\n",
    "        init_state.extend([float(factor*epsilon*jr.uniform(subkey))])\n",
    "    break\n",
    "    # key, subkey = jr.split(key)\n",
    "    # control_policy, losses = fit_controller(\n",
    "    #     policy=control_policy,\n",
    "    #     num_particles=num_particles,\n",
    "    #     initial_sample=init_state,\n",
    "    #     timesteps=jnp.arange(control_horizon),\n",
    "    #     gp_model=model,\n",
    "    #     obj_func=pendulum_cost,\n",
    "    #     optim=optimizer,\n",
    "    #     num_iters=num_opt_steps,\n",
    "    #     key=subkey,\n",
    "    # )\n",
    "    # plt.plot(losses)\n",
    "    # plt.title(trial)\n",
    "    # plt.show()"
   ]
  },
  {
   "cell_type": "code",
   "execution_count": 15,
   "id": "fcb460bc-b513-4f80-88b3-4f85a14a6c80",
   "metadata": {},
   "outputs": [],
   "source": [
    "# Create an ensemble of controllers\n",
    "@eqx.filter_vmap\n",
    "def make_ensemble(key):\n",
    "    return SumOfGaussians(\n",
    "        state_dim,\n",
    "        action_dim,\n",
    "        num_basis,\n",
    "        initial_log_lengthscales=None,\n",
    "        initial_centers=None,\n",
    "        to_squash=True,\n",
    "        max_action=umax,\n",
    "        key=key\n",
    "    )\n",
    "def make_initial_samples(init_state: List, num_samples: Int, env: gym.wrappers.common.TimeLimit,)->Array:\n",
    "    init_samples = []\n",
    "    for i in range(num_samples):\n",
    "        sample, _ = env.reset(\n",
    "            options={\"x_init\": init_state[0], \"y_init\": init_state[1]}\n",
    "        )\n",
    "        init_samples.append(sample)\n",
    "    return jnp.array(init_samples)\n"
   ]
  },
  {
   "cell_type": "code",
   "execution_count": 16,
   "id": "a0ef7627-1ba0-4474-aee1-56ce08aaad4f",
   "metadata": {},
   "outputs": [],
   "source": [
    "num_init_conditions = 100"
   ]
  },
  {
   "cell_type": "code",
   "execution_count": 17,
   "id": "efcd4966-d70b-4d52-b903-5a56251dc97c",
   "metadata": {},
   "outputs": [],
   "source": [
    "init_state = [1e-2,1e-2]\n",
    "init_samples = make_initial_samples(init_state,num_init_conditions,env)"
   ]
  },
  {
   "cell_type": "code",
   "execution_count": 18,
   "id": "e898579c-bfa0-4a1a-a483-ea0914b526bc",
   "metadata": {},
   "outputs": [],
   "source": [
    "keys = jax.random.split(key, num_init_conditions)\n",
    "control_policies = make_ensemble(keys)"
   ]
  },
  {
   "cell_type": "code",
   "execution_count": 19,
   "id": "be20286e-8397-4729-a1df-3977ffed5f5b",
   "metadata": {},
   "outputs": [],
   "source": [
    "policies = control_policies\n",
    "initial_samples = init_samples\n",
    "num_iters: Int = 100\n",
    "unroll: Int = 5\n",
    "\n",
    "timesteps=jnp.arange(control_horizon)\n",
    "gp_model=model\n",
    "obj_func=pendulum_cost\n",
    "optim=optimizer\n",
    "num_iters=num_opt_steps"
   ]
  },
  {
   "cell_type": "code",
   "execution_count": 30,
   "id": "3d4f17a3-2be5-4ea9-a443-9b8f7f1d9519",
   "metadata": {},
   "outputs": [],
   "source": [
    "# key, subkey = jr.split(key)\n",
    "# control_policies, losses = fit_controller(\n",
    "#     policies = control_policies,\n",
    "#     initial_samples = init_samples,\n",
    "#     num_particles=num_particles,\n",
    "#     timesteps=jnp.arange(control_horizon),\n",
    "#     gp_model=model,\n",
    "#     obj_func=pendulum_cost,\n",
    "#     optim=optimizer,\n",
    "#     num_iters=num_opt_steps,\n",
    "#     key=subkey,\n",
    "# )"
   ]
  },
  {
   "cell_type": "code",
   "execution_count": 21,
   "id": "35367e7f-f461-4161-8774-81bbfd9fcbbf",
   "metadata": {},
   "outputs": [
    {
     "data": {
      "text/plain": [
       "(100, 1, 3)"
      ]
     },
     "execution_count": 21,
     "metadata": {},
     "output_type": "execute_result"
    }
   ],
   "source": [
    "init_samples[:,jnp.newaxis,:].shape"
   ]
  },
  {
   "cell_type": "code",
   "execution_count": null,
   "id": "969ac1a2-5877-4a77-8de0-8dd6dcf213ca",
   "metadata": {},
   "outputs": [],
   "source": []
  },
  {
   "cell_type": "code",
   "execution_count": null,
   "id": "ab23749f-046f-47b4-85fd-9e4efc9da0dd",
   "metadata": {},
   "outputs": [],
   "source": []
  },
  {
   "cell_type": "code",
   "execution_count": 22,
   "id": "3e4a0ea1-da6f-43ec-8e8e-1148fd79945b",
   "metadata": {},
   "outputs": [
    {
     "ename": "ValueError",
     "evalue": "vmap was requested to map its argument along axis 0, which implies that its rank should be at least 1, but is only 0 (its shape is ())",
     "output_type": "error",
     "traceback": [
      "\u001b[31m---------------------------------------------------------------------------\u001b[39m",
      "\u001b[31mIndexError\u001b[39m                                Traceback (most recent call last)",
      "\u001b[36mFile \u001b[39m\u001b[32m~/.pyenv/versions/pilco/lib/python3.11/site-packages/jax/_src/api.py:1099\u001b[39m, in \u001b[36m_mapped_axis_size.<locals>._get_axis_size\u001b[39m\u001b[34m(name, shape, axis)\u001b[39m\n\u001b[32m   1098\u001b[39m \u001b[38;5;28;01mtry\u001b[39;00m:\n\u001b[32m-> \u001b[39m\u001b[32m1099\u001b[39m   \u001b[38;5;28;01mreturn\u001b[39;00m \u001b[43mshape\u001b[49m\u001b[43m[\u001b[49m\u001b[43maxis\u001b[49m\u001b[43m]\u001b[49m\n\u001b[32m   1100\u001b[39m \u001b[38;5;28;01mexcept\u001b[39;00m (\u001b[38;5;167;01mIndexError\u001b[39;00m, \u001b[38;5;167;01mTypeError\u001b[39;00m) \u001b[38;5;28;01mas\u001b[39;00m e:\n",
      "\u001b[31mIndexError\u001b[39m: tuple index out of range",
      "\nThe above exception was the direct cause of the following exception:\n",
      "\u001b[31mValueError\u001b[39m                                Traceback (most recent call last)",
      "\u001b[36mCell\u001b[39m\u001b[36m \u001b[39m\u001b[32mIn[22]\u001b[39m\u001b[32m, line 14\u001b[39m\n\u001b[32m     12\u001b[39m \u001b[38;5;66;03m# initialize some particles\u001b[39;00m\n\u001b[32m     13\u001b[39m key, subkey = jr.split(key)\n\u001b[32m---> \u001b[39m\u001b[32m14\u001b[39m initial_particles = \u001b[43mgp_model\u001b[49m\u001b[43m.\u001b[49m\u001b[43mget_samples\u001b[49m\u001b[43m(\u001b[49m\u001b[43msubkey\u001b[49m\u001b[43m,\u001b[49m\u001b[43m \u001b[49m\u001b[43minitial_samples\u001b[49m\u001b[43m,\u001b[49m\u001b[43m \u001b[49m\u001b[43mu\u001b[49m\u001b[43m,\u001b[49m\u001b[43m \u001b[49m\u001b[43mnum_particles\u001b[49m\u001b[43m)\u001b[49m\n",
      "\u001b[36mFile \u001b[39m\u001b[32m~/.pyenv/versions/pilco/lib/python3.11/site-packages/equinox/_module.py:1182\u001b[39m, in \u001b[36mPartial.__call__\u001b[39m\u001b[34m(self, *args, **kwargs)\u001b[39m\n\u001b[32m   1169\u001b[39m \u001b[38;5;28;01mdef\u001b[39;00m\u001b[38;5;250m \u001b[39m\u001b[34m__call__\u001b[39m(\u001b[38;5;28mself\u001b[39m, *args, **kwargs):\n\u001b[32m   1170\u001b[39m \u001b[38;5;250m    \u001b[39m\u001b[33;03m\"\"\"Call the wrapped `self.func`.\u001b[39;00m\n\u001b[32m   1171\u001b[39m \n\u001b[32m   1172\u001b[39m \u001b[33;03m    **Arguments:**\u001b[39;00m\n\u001b[32m   (...)\u001b[39m\u001b[32m   1180\u001b[39m \u001b[33;03m    The result of the wrapped function.\u001b[39;00m\n\u001b[32m   1181\u001b[39m \u001b[33;03m    \"\"\"\u001b[39;00m\n\u001b[32m-> \u001b[39m\u001b[32m1182\u001b[39m     \u001b[38;5;28;01mreturn\u001b[39;00m \u001b[38;5;28;43mself\u001b[39;49m\u001b[43m.\u001b[49m\u001b[43mfunc\u001b[49m\u001b[43m(\u001b[49m\u001b[43m*\u001b[49m\u001b[38;5;28;43mself\u001b[39;49m\u001b[43m.\u001b[49m\u001b[43margs\u001b[49m\u001b[43m,\u001b[49m\u001b[43m \u001b[49m\u001b[43m*\u001b[49m\u001b[43margs\u001b[49m\u001b[43m,\u001b[49m\u001b[43m \u001b[49m\u001b[43m*\u001b[49m\u001b[43m*\u001b[49m\u001b[43mkwargs\u001b[49m\u001b[43m,\u001b[49m\u001b[43m \u001b[49m\u001b[43m*\u001b[49m\u001b[43m*\u001b[49m\u001b[38;5;28;43mself\u001b[39;49m\u001b[43m.\u001b[49m\u001b[43mkeywords\u001b[49m\u001b[43m)\u001b[49m\n",
      "\u001b[36mFile \u001b[39m\u001b[32m~/.pyenv/versions/pilco/lib/python3.11/site-packages/equinox/_vmap_pmap.py:169\u001b[39m, in \u001b[36m_VmapWrapper.__call__\u001b[39m\u001b[34m(***failed resolving arguments***)\u001b[39m\n\u001b[32m    164\u001b[39m         \u001b[38;5;28;01mraise\u001b[39;00m \u001b[38;5;167;01mValueError\u001b[39;00m(\n\u001b[32m    165\u001b[39m             \u001b[33m\"\u001b[39m\u001b[33mCannot resolve batch dimension. Non-`None` `out_axes` requires \u001b[39m\u001b[33m\"\u001b[39m\n\u001b[32m    166\u001b[39m             \u001b[33m\"\u001b[39m\u001b[33meither `in_axes` or `axis_size` to be not `None`.\u001b[39m\u001b[33m\"\u001b[39m\n\u001b[32m    167\u001b[39m         )\n\u001b[32m    168\u001b[39m \u001b[38;5;28;01melse\u001b[39;00m:\n\u001b[32m--> \u001b[39m\u001b[32m169\u001b[39m     vmapd, nonvmapd_arr, static = \u001b[43mjax\u001b[49m\u001b[43m.\u001b[49m\u001b[43mvmap\u001b[49m\u001b[43m(\u001b[49m\n\u001b[32m    170\u001b[39m \u001b[43m        \u001b[49m\u001b[43m_fun_wrapper\u001b[49m\u001b[43m,\u001b[49m\n\u001b[32m    171\u001b[39m \u001b[43m        \u001b[49m\u001b[43min_axes\u001b[49m\u001b[43m=\u001b[49m\u001b[43m(\u001b[49m\u001b[43min_axes\u001b[49m\u001b[43m,\u001b[49m\u001b[43m)\u001b[49m\u001b[43m,\u001b[49m\n\u001b[32m    172\u001b[39m \u001b[43m        \u001b[49m\u001b[43mout_axes\u001b[49m\u001b[43m=\u001b[49m\u001b[43m(\u001b[49m\u001b[32;43m0\u001b[39;49m\u001b[43m,\u001b[49m\u001b[43m \u001b[49m\u001b[38;5;28;43;01mNone\u001b[39;49;00m\u001b[43m,\u001b[49m\u001b[43m \u001b[49m\u001b[38;5;28;43;01mNone\u001b[39;49;00m\u001b[43m)\u001b[49m\u001b[43m,\u001b[49m\n\u001b[32m    173\u001b[39m \u001b[43m        \u001b[49m\u001b[43maxis_name\u001b[49m\u001b[43m=\u001b[49m\u001b[38;5;28;43mself\u001b[39;49m\u001b[43m.\u001b[49m\u001b[43m_axis_name\u001b[49m\u001b[43m,\u001b[49m\n\u001b[32m    174\u001b[39m \u001b[43m        \u001b[49m\u001b[43maxis_size\u001b[49m\u001b[43m=\u001b[49m\u001b[38;5;28;43mself\u001b[39;49m\u001b[43m.\u001b[49m\u001b[43m_axis_size\u001b[49m\u001b[43m,\u001b[49m\n\u001b[32m    175\u001b[39m \u001b[43m        \u001b[49m\u001b[43m*\u001b[49m\u001b[43m*\u001b[49m\u001b[38;5;28;43mself\u001b[39;49m\u001b[43m.\u001b[49m\u001b[43m_vmapkwargs\u001b[49m\u001b[43m,\u001b[49m\n\u001b[32m    176\u001b[39m \u001b[43m    \u001b[49m\u001b[43m)\u001b[49m\u001b[43m(\u001b[49m\u001b[43mdynamic_args\u001b[49m\u001b[43m)\u001b[49m\n\u001b[32m    178\u001b[39m nonvmapd_static, out_axes = static.value\n\u001b[32m    179\u001b[39m nonvmapd = combine(nonvmapd_arr, nonvmapd_static)\n",
      "    \u001b[31m[... skipping hidden 6 frame]\u001b[39m\n",
      "\u001b[36mFile \u001b[39m\u001b[32m~/.pyenv/versions/pilco/lib/python3.11/site-packages/jax/_src/api.py:1103\u001b[39m, in \u001b[36m_mapped_axis_size.<locals>._get_axis_size\u001b[39m\u001b[34m(name, shape, axis)\u001b[39m\n\u001b[32m   1101\u001b[39m min_rank = axis + \u001b[32m1\u001b[39m \u001b[38;5;28;01mif\u001b[39;00m axis >= \u001b[32m0\u001b[39m \u001b[38;5;28;01melse\u001b[39;00m -axis\n\u001b[32m   1102\u001b[39m \u001b[38;5;66;03m# TODO(mattjj): better error message here\u001b[39;00m\n\u001b[32m-> \u001b[39m\u001b[32m1103\u001b[39m \u001b[38;5;28;01mraise\u001b[39;00m \u001b[38;5;167;01mValueError\u001b[39;00m(\n\u001b[32m   1104\u001b[39m     \u001b[33mf\u001b[39m\u001b[33m\"\u001b[39m\u001b[38;5;132;01m{\u001b[39;00mname\u001b[38;5;132;01m}\u001b[39;00m\u001b[33m was requested to map its argument along axis \u001b[39m\u001b[38;5;132;01m{\u001b[39;00maxis\u001b[38;5;132;01m}\u001b[39;00m\u001b[33m, \u001b[39m\u001b[33m\"\u001b[39m\n\u001b[32m   1105\u001b[39m     \u001b[33mf\u001b[39m\u001b[33m\"\u001b[39m\u001b[33mwhich implies that its rank should be at least \u001b[39m\u001b[38;5;132;01m{\u001b[39;00mmin_rank\u001b[38;5;132;01m}\u001b[39;00m\u001b[33m, \u001b[39m\u001b[33m\"\u001b[39m\n\u001b[32m   1106\u001b[39m     \u001b[33mf\u001b[39m\u001b[33m\"\u001b[39m\u001b[33mbut is only \u001b[39m\u001b[38;5;132;01m{\u001b[39;00m\u001b[38;5;28mlen\u001b[39m(shape)\u001b[38;5;132;01m}\u001b[39;00m\u001b[33m (its shape is \u001b[39m\u001b[38;5;132;01m{\u001b[39;00mshape\u001b[38;5;132;01m}\u001b[39;00m\u001b[33m)\u001b[39m\u001b[33m\"\u001b[39m) \u001b[38;5;28;01mfrom\u001b[39;00m\u001b[38;5;250m \u001b[39m\u001b[34;01me\u001b[39;00m\n",
      "\u001b[31mValueError\u001b[39m: vmap was requested to map its argument along axis 0, which implies that its rank should be at least 1, but is only 0 (its shape is ())"
     ]
    }
   ],
   "source": [
    "@eqx.filter_vmap\n",
    "def evaluate_per_ensemble(model, x, t):\n",
    "    return eqx.filter_vmap(model)(x, t)\n",
    "\n",
    "@eqx.filter_vmap\n",
    "def init_evaluate_per_ensemble(model, x, t):\n",
    "    return model(x, t)\n",
    "\n",
    "# Now do a rollout with this model\n",
    "# Generate initial actions\n",
    "u = evaluate_per_ensemble(policies, init_samples[:,jnp.newaxis,:], 0.0)\n",
    "# initialize some particles\n",
    "key, subkey = jr.split(key)\n",
    "initial_particles = gp_model.get_samples(subkey, initial_samples, u, num_particles)"
   ]
  },
  {
   "cell_type": "code",
   "execution_count": 45,
   "id": "95aadd96-9f08-4947-b3d2-7e69e0f7b911",
   "metadata": {},
   "outputs": [],
   "source": [
    "#@eqx.debug.assert_max_traces(max_traces=1)\n",
    "def rollout(\n",
    "    policy: eqx.Module,\n",
    "    init_samples: ArrayLike,\n",
    "    model: eqx.Module,\n",
    "    timesteps: ArrayLike,\n",
    "    key: ArrayLike = jr.key(123),\n",
    ") -> Float:\n",
    "    policy_params, policy_static = eqx.partition(policy, eqx.is_array)\n",
    "\n",
    "    def one_rollout_step(\n",
    "        carry: Tuple[ArrayLike, ArrayLike, ArrayLike, Float], timestep: Float\n",
    "    ) -> Tuple[Tuple[ArrayLike, ArrayLike, ArrayLike, Float], Float]:\n",
    "        policy_params, key, samples, total_cost = carry\n",
    "        policy = eqx.combine(policy_params, policy_static)\n",
    "        actions = evaluate_per_ensemble(\n",
    "            policy, samples, jnp.tile(timestep, num_particles)\n",
    "        )\n",
    "\n",
    "        key, subkey = jr.split(key)\n",
    "        samples = model.get_samples(key, samples, actions, 1)\n",
    "        cost = jnp.mean(jax.vmap(obj_func)(jnp.hstack((samples, actions))))\n",
    "        return (policy_params, key, samples, total_cost + cost), cost\n",
    "\n",
    "    total_cost = 0\n",
    "    (policy_params, key, samples, total_cost), result = jax.lax.scan(\n",
    "        one_rollout_step, (policy_params, key, init_samples, total_cost), timesteps\n",
    "    )\n",
    "    return total_cost"
   ]
  },
  {
   "cell_type": "code",
   "execution_count": null,
   "id": "bec76cb7-ece6-4d07-b741-1f8ffc3a8b1d",
   "metadata": {},
   "outputs": [],
   "source": []
  },
  {
   "cell_type": "code",
   "execution_count": 39,
   "id": "63c3591d-6013-491d-b60c-4587e5c7fdbc",
   "metadata": {},
   "outputs": [],
   "source": [
    "opt_states = eqx.filter_vmap(optim.init)(eqx.filter(policies, eqx.is_array))"
   ]
  },
  {
   "cell_type": "code",
   "execution_count": 40,
   "id": "44011a6d-632b-4bc1-bcea-d94661d40e3a",
   "metadata": {},
   "outputs": [],
   "source": [
    "# Mini-batch random keys to scan over.\n",
    "iter_keys = jr.split(key, num_iters)\n",
    "\n",
    "# Optimisation step.\n",
    "@eqx.filter_jit\n",
    "@eqx.filter_vmap\n",
    "def make_step(\n",
    "    policy: eqx.Module,\n",
    "    opt_states: PyTree,\n",
    ") -> Tuple[eqx.Module, PyTree, Float]:\n",
    "    loss_value, loss_gradient = eqx.filter_value_and_grad(rollout)(\n",
    "        policy, initial_particles, gp_model, timesteps\n",
    "    )\n",
    "    updates, opt_state = optim.update(\n",
    "        loss_gradient, opt_state, eqx.filter(policy, eqx.is_array)\n",
    "    )\n",
    "    policy = eqx.apply_updates(policy, updates)\n",
    "    return policy, opt_state, loss_value"
   ]
  },
  {
   "cell_type": "code",
   "execution_count": 43,
   "id": "bdda80e1-d870-42ae-b04c-3016a662814c",
   "metadata": {},
   "outputs": [],
   "source": [
    "#policies, opt_states, train_losses = make_step(policies, opt_states)"
   ]
  },
  {
   "cell_type": "code",
   "execution_count": 51,
   "id": "a39b4607-086d-44c1-a053-da51b5a08b9c",
   "metadata": {},
   "outputs": [],
   "source": [
    "policy_params, policy_static = eqx.partition(policies, eqx.is_array)"
   ]
  },
  {
   "cell_type": "code",
   "execution_count": 52,
   "id": "213296a7-4908-4ddb-805a-72725a37b0e5",
   "metadata": {},
   "outputs": [],
   "source": [
    "def one_rollout_step(\n",
    "    carry: Tuple[ArrayLike, ArrayLike, ArrayLike, Float], timestep: Float\n",
    ") -> Tuple[Tuple[ArrayLike, ArrayLike, ArrayLike, Float], Float]:\n",
    "    policy_params, key, samples, total_cost = carry\n",
    "    policy = eqx.combine(policy_params, policy_static)\n",
    "    actions = evaluate_per_ensemble(\n",
    "        policy, samples, jnp.tile(timestep, num_particles)\n",
    "    )\n",
    "\n",
    "    key, subkey = jr.split(key)\n",
    "    samples = model.get_samples(key, samples, actions, 1)\n",
    "    cost = jnp.mean(jax.vmap(obj_func)(jnp.hstack((samples, actions))))\n",
    "    return (policy_params, key, samples, total_cost + cost), cost"
   ]
  },
  {
   "cell_type": "code",
   "execution_count": 68,
   "id": "2d801faa-222c-475c-bada-4081cc8f280e",
   "metadata": {},
   "outputs": [],
   "source": [
    "key, subkey = jr.split(key)\n",
    "carry = (policy_params, subkey, initial_particles, 0)"
   ]
  },
  {
   "cell_type": "code",
   "execution_count": 69,
   "id": "5ad97855-5198-42c4-9584-038cf2063446",
   "metadata": {},
   "outputs": [],
   "source": [
    "policy_params, key, samples, total_cost = carry"
   ]
  },
  {
   "cell_type": "code",
   "execution_count": null,
   "id": "7eb55b5f-b2fd-4251-bb50-5ee0560fb95a",
   "metadata": {},
   "outputs": [],
   "source": []
  },
  {
   "cell_type": "code",
   "execution_count": 70,
   "id": "d567c65a-371a-4dc8-86d7-244c6ddf6aaf",
   "metadata": {},
   "outputs": [],
   "source": [
    "policy = eqx.combine(policy_params, policy_static)"
   ]
  },
  {
   "cell_type": "code",
   "execution_count": 71,
   "id": "159f6715-781b-44ff-8f06-ef4c31ebd1e6",
   "metadata": {},
   "outputs": [],
   "source": [
    "actions = evaluate_per_ensemble(\n",
    "    policy, samples, 0.0\n",
    ")"
   ]
  },
  {
   "cell_type": "code",
   "execution_count": 72,
   "id": "da1c3c32-864a-4b27-8fa7-dc5c95f8f1de",
   "metadata": {},
   "outputs": [
    {
     "ename": "TypeError",
     "evalue": "Cannot concatenate arrays with shapes that differ in dimensions other than the one being concatenated: concatenating along dimension 1 for shapes (100, 400, 3), (100, 400, 1).",
     "output_type": "error",
     "traceback": [
      "\u001b[31m---------------------------------------------------------------------------\u001b[39m",
      "\u001b[31mTypeError\u001b[39m                                 Traceback (most recent call last)",
      "\u001b[36mCell\u001b[39m\u001b[36m \u001b[39m\u001b[32mIn[72]\u001b[39m\u001b[32m, line 1\u001b[39m\n\u001b[32m----> \u001b[39m\u001b[32m1\u001b[39m samples = \u001b[43mmodel\u001b[49m\u001b[43m.\u001b[49m\u001b[43mget_samples\u001b[49m\u001b[43m(\u001b[49m\u001b[43mkey\u001b[49m\u001b[43m,\u001b[49m\u001b[43m \u001b[49m\u001b[43msamples\u001b[49m\u001b[43m,\u001b[49m\u001b[43m \u001b[49m\u001b[43mactions\u001b[49m\u001b[43m,\u001b[49m\u001b[43m \u001b[49m\u001b[32;43m1\u001b[39;49m\u001b[43m)\u001b[49m\n",
      "    \u001b[31m[... skipping hidden 1 frame]\u001b[39m\n",
      "\u001b[36mFile \u001b[39m\u001b[32m~/dev/jax-mc-pilco/src/jax_mc_pilco/model_learning/gp_models.py:272\u001b[39m, in \u001b[36mIMGPR.get_samples\u001b[39m\u001b[34m(self, key, states, actions, num_samples)\u001b[39m\n\u001b[32m    270\u001b[39m \u001b[38;5;66;03m# Vectorize the sampling function\u001b[39;00m\n\u001b[32m    271\u001b[39m vectorized_sample = vmap(sample_mvnormal, in_axes=(\u001b[38;5;28;01mNone\u001b[39;00m, \u001b[32m0\u001b[39m, \u001b[32m0\u001b[39m, \u001b[38;5;28;01mNone\u001b[39;00m))\n\u001b[32m--> \u001b[39m\u001b[32m272\u001b[39m test_inputs = \u001b[38;5;28;43mself\u001b[39;49m\u001b[43m.\u001b[49m\u001b[43mdata_to_gp_input\u001b[49m\u001b[43m(\u001b[49m\u001b[43mstates\u001b[49m\u001b[43m,\u001b[49m\u001b[43m \u001b[49m\u001b[43mactions\u001b[49m\u001b[43m)\u001b[49m\n\u001b[32m    273\u001b[39m predictive_moments = \u001b[38;5;28mself\u001b[39m.predict_all_outputs(test_inputs)\n\u001b[32m    274\u001b[39m \u001b[38;5;28;01mreturn\u001b[39;00m jnp.squeeze(\n\u001b[32m    275\u001b[39m     vectorized_sample(\n\u001b[32m    276\u001b[39m         key,\n\u001b[32m   (...)\u001b[39m\u001b[32m    280\u001b[39m     )\n\u001b[32m    281\u001b[39m )\n",
      "    \u001b[31m[... skipping hidden 1 frame]\u001b[39m\n",
      "\u001b[36mFile \u001b[39m\u001b[32m~/dev/jax-mc-pilco/src/jax_mc_pilco/model_learning/gp_models.py:83\u001b[39m, in \u001b[36mDynamicalModel.data_to_gp_input\u001b[39m\u001b[34m(self, states, actions)\u001b[39m\n\u001b[32m     81\u001b[39m \u001b[38;5;28;01mdef\u001b[39;00m\u001b[38;5;250m \u001b[39m\u001b[34mdata_to_gp_input\u001b[39m(\u001b[38;5;28mself\u001b[39m, states: ArrayLike, actions: ArrayLike) -> Array:\n\u001b[32m     82\u001b[39m \u001b[38;5;250m    \u001b[39m\u001b[33;03m\"\"\"Transforms data into PILCO data format.\"\"\"\u001b[39;00m\n\u001b[32m---> \u001b[39m\u001b[32m83\u001b[39m     val = \u001b[43mjnp\u001b[49m\u001b[43m.\u001b[49m\u001b[43mhstack\u001b[49m\u001b[43m(\u001b[49m\u001b[43m(\u001b[49m\u001b[43mstates\u001b[49m\u001b[43m,\u001b[49m\u001b[43m \u001b[49m\u001b[43mactions\u001b[49m\u001b[43m)\u001b[49m\u001b[43m)\u001b[49m\n\u001b[32m     84\u001b[39m     \u001b[38;5;28;01mif\u001b[39;00m val.ndim == \u001b[32m1\u001b[39m:\n\u001b[32m     85\u001b[39m         val = jnp.atleast_2d(val).T\n",
      "\u001b[36mFile \u001b[39m\u001b[32m~/.pyenv/versions/pilco/lib/python3.11/site-packages/jax/_src/numpy/lax_numpy.py:4813\u001b[39m, in \u001b[36mhstack\u001b[39m\u001b[34m(tup, dtype)\u001b[39m\n\u001b[32m   4811\u001b[39m   arrs = [atleast_1d(m) \u001b[38;5;28;01mfor\u001b[39;00m m \u001b[38;5;129;01min\u001b[39;00m tup]\n\u001b[32m   4812\u001b[39m   arr0_ndim = arrs[\u001b[32m0\u001b[39m].ndim\n\u001b[32m-> \u001b[39m\u001b[32m4813\u001b[39m \u001b[38;5;28;01mreturn\u001b[39;00m \u001b[43mconcatenate\u001b[49m\u001b[43m(\u001b[49m\u001b[43marrs\u001b[49m\u001b[43m,\u001b[49m\u001b[43m \u001b[49m\u001b[43maxis\u001b[49m\u001b[43m=\u001b[49m\u001b[32;43m0\u001b[39;49m\u001b[43m \u001b[49m\u001b[38;5;28;43;01mif\u001b[39;49;00m\u001b[43m \u001b[49m\u001b[43marr0_ndim\u001b[49m\u001b[43m \u001b[49m\u001b[43m==\u001b[49m\u001b[43m \u001b[49m\u001b[32;43m1\u001b[39;49m\u001b[43m \u001b[49m\u001b[38;5;28;43;01melse\u001b[39;49;00m\u001b[43m \u001b[49m\u001b[32;43m1\u001b[39;49m\u001b[43m,\u001b[49m\u001b[43m \u001b[49m\u001b[43mdtype\u001b[49m\u001b[43m=\u001b[49m\u001b[43mdtype\u001b[49m\u001b[43m)\u001b[49m\n",
      "\u001b[36mFile \u001b[39m\u001b[32m~/.pyenv/versions/pilco/lib/python3.11/site-packages/jax/_src/numpy/lax_numpy.py:4648\u001b[39m, in \u001b[36mconcatenate\u001b[39m\u001b[34m(arrays, axis, dtype)\u001b[39m\n\u001b[32m   4646\u001b[39m k = \u001b[32m16\u001b[39m\n\u001b[32m   4647\u001b[39m \u001b[38;5;28;01mwhile\u001b[39;00m \u001b[38;5;28mlen\u001b[39m(arrays_out) > \u001b[32m1\u001b[39m:\n\u001b[32m-> \u001b[39m\u001b[32m4648\u001b[39m   arrays_out = \u001b[43m[\u001b[49m\u001b[43mlax\u001b[49m\u001b[43m.\u001b[49m\u001b[43mconcatenate\u001b[49m\u001b[43m(\u001b[49m\u001b[43marrays_out\u001b[49m\u001b[43m[\u001b[49m\u001b[43mi\u001b[49m\u001b[43m:\u001b[49m\u001b[43mi\u001b[49m\u001b[43m+\u001b[49m\u001b[43mk\u001b[49m\u001b[43m]\u001b[49m\u001b[43m,\u001b[49m\u001b[43m \u001b[49m\u001b[43maxis\u001b[49m\u001b[43m)\u001b[49m\n\u001b[32m   4649\u001b[39m \u001b[43m                \u001b[49m\u001b[38;5;28;43;01mfor\u001b[39;49;00m\u001b[43m \u001b[49m\u001b[43mi\u001b[49m\u001b[43m \u001b[49m\u001b[38;5;129;43;01min\u001b[39;49;00m\u001b[43m \u001b[49m\u001b[38;5;28;43mrange\u001b[39;49m\u001b[43m(\u001b[49m\u001b[32;43m0\u001b[39;49m\u001b[43m,\u001b[49m\u001b[43m \u001b[49m\u001b[38;5;28;43mlen\u001b[39;49m\u001b[43m(\u001b[49m\u001b[43marrays_out\u001b[49m\u001b[43m)\u001b[49m\u001b[43m,\u001b[49m\u001b[43m \u001b[49m\u001b[43mk\u001b[49m\u001b[43m)\u001b[49m\u001b[43m]\u001b[49m\n\u001b[32m   4650\u001b[39m \u001b[38;5;28;01mreturn\u001b[39;00m arrays_out[\u001b[32m0\u001b[39m]\n",
      "\u001b[36mFile \u001b[39m\u001b[32m~/.pyenv/versions/pilco/lib/python3.11/site-packages/jax/_src/numpy/lax_numpy.py:4648\u001b[39m, in \u001b[36m<listcomp>\u001b[39m\u001b[34m(.0)\u001b[39m\n\u001b[32m   4646\u001b[39m k = \u001b[32m16\u001b[39m\n\u001b[32m   4647\u001b[39m \u001b[38;5;28;01mwhile\u001b[39;00m \u001b[38;5;28mlen\u001b[39m(arrays_out) > \u001b[32m1\u001b[39m:\n\u001b[32m-> \u001b[39m\u001b[32m4648\u001b[39m   arrays_out = [\u001b[43mlax\u001b[49m\u001b[43m.\u001b[49m\u001b[43mconcatenate\u001b[49m\u001b[43m(\u001b[49m\u001b[43marrays_out\u001b[49m\u001b[43m[\u001b[49m\u001b[43mi\u001b[49m\u001b[43m:\u001b[49m\u001b[43mi\u001b[49m\u001b[43m+\u001b[49m\u001b[43mk\u001b[49m\u001b[43m]\u001b[49m\u001b[43m,\u001b[49m\u001b[43m \u001b[49m\u001b[43maxis\u001b[49m\u001b[43m)\u001b[49m\n\u001b[32m   4649\u001b[39m                 \u001b[38;5;28;01mfor\u001b[39;00m i \u001b[38;5;129;01min\u001b[39;00m \u001b[38;5;28mrange\u001b[39m(\u001b[32m0\u001b[39m, \u001b[38;5;28mlen\u001b[39m(arrays_out), k)]\n\u001b[32m   4650\u001b[39m \u001b[38;5;28;01mreturn\u001b[39;00m arrays_out[\u001b[32m0\u001b[39m]\n",
      "\u001b[36mFile \u001b[39m\u001b[32m~/.pyenv/versions/pilco/lib/python3.11/site-packages/jax/_src/lax/lax.py:2000\u001b[39m, in \u001b[36mconcatenate\u001b[39m\u001b[34m(operands, dimension)\u001b[39m\n\u001b[32m   1998\u001b[39m     \u001b[38;5;28;01mreturn\u001b[39;00m op\n\u001b[32m   1999\u001b[39m operands = core.standard_insert_pvary(*operands)\n\u001b[32m-> \u001b[39m\u001b[32m2000\u001b[39m \u001b[38;5;28;01mreturn\u001b[39;00m \u001b[43mconcatenate_p\u001b[49m\u001b[43m.\u001b[49m\u001b[43mbind\u001b[49m\u001b[43m(\u001b[49m\u001b[43m*\u001b[49m\u001b[43moperands\u001b[49m\u001b[43m,\u001b[49m\u001b[43m \u001b[49m\u001b[43mdimension\u001b[49m\u001b[43m=\u001b[49m\u001b[43mdimension\u001b[49m\u001b[43m)\u001b[49m\n",
      "\u001b[36mFile \u001b[39m\u001b[32m~/.pyenv/versions/pilco/lib/python3.11/site-packages/jax/_src/core.py:496\u001b[39m, in \u001b[36mPrimitive.bind\u001b[39m\u001b[34m(self, *args, **params)\u001b[39m\n\u001b[32m    494\u001b[39m \u001b[38;5;28;01mdef\u001b[39;00m\u001b[38;5;250m \u001b[39m\u001b[34mbind\u001b[39m(\u001b[38;5;28mself\u001b[39m, *args, **params):\n\u001b[32m    495\u001b[39m   args = args \u001b[38;5;28;01mif\u001b[39;00m \u001b[38;5;28mself\u001b[39m.skip_canonicalization \u001b[38;5;28;01melse\u001b[39;00m \u001b[38;5;28mmap\u001b[39m(canonicalize_value, args)\n\u001b[32m--> \u001b[39m\u001b[32m496\u001b[39m   \u001b[38;5;28;01mreturn\u001b[39;00m \u001b[38;5;28;43mself\u001b[39;49m\u001b[43m.\u001b[49m\u001b[43m_true_bind\u001b[49m\u001b[43m(\u001b[49m\u001b[43m*\u001b[49m\u001b[43margs\u001b[49m\u001b[43m,\u001b[49m\u001b[43m \u001b[49m\u001b[43m*\u001b[49m\u001b[43m*\u001b[49m\u001b[43mparams\u001b[49m\u001b[43m)\u001b[49m\n",
      "\u001b[36mFile \u001b[39m\u001b[32m~/.pyenv/versions/pilco/lib/python3.11/site-packages/jax/_src/core.py:512\u001b[39m, in \u001b[36mPrimitive._true_bind\u001b[39m\u001b[34m(self, *args, **params)\u001b[39m\n\u001b[32m    510\u001b[39m trace_ctx.set_trace(eval_trace)\n\u001b[32m    511\u001b[39m \u001b[38;5;28;01mtry\u001b[39;00m:\n\u001b[32m--> \u001b[39m\u001b[32m512\u001b[39m   \u001b[38;5;28;01mreturn\u001b[39;00m \u001b[38;5;28;43mself\u001b[39;49m\u001b[43m.\u001b[49m\u001b[43mbind_with_trace\u001b[49m\u001b[43m(\u001b[49m\u001b[43mprev_trace\u001b[49m\u001b[43m,\u001b[49m\u001b[43m \u001b[49m\u001b[43margs\u001b[49m\u001b[43m,\u001b[49m\u001b[43m \u001b[49m\u001b[43mparams\u001b[49m\u001b[43m)\u001b[49m\n\u001b[32m    513\u001b[39m \u001b[38;5;28;01mfinally\u001b[39;00m:\n\u001b[32m    514\u001b[39m   trace_ctx.set_trace(prev_trace)\n",
      "\u001b[36mFile \u001b[39m\u001b[32m~/.pyenv/versions/pilco/lib/python3.11/site-packages/jax/_src/core.py:517\u001b[39m, in \u001b[36mPrimitive.bind_with_trace\u001b[39m\u001b[34m(self, trace, args, params)\u001b[39m\n\u001b[32m    516\u001b[39m \u001b[38;5;28;01mdef\u001b[39;00m\u001b[38;5;250m \u001b[39m\u001b[34mbind_with_trace\u001b[39m(\u001b[38;5;28mself\u001b[39m, trace, args, params):\n\u001b[32m--> \u001b[39m\u001b[32m517\u001b[39m   \u001b[38;5;28;01mreturn\u001b[39;00m \u001b[43mtrace\u001b[49m\u001b[43m.\u001b[49m\u001b[43mprocess_primitive\u001b[49m\u001b[43m(\u001b[49m\u001b[38;5;28;43mself\u001b[39;49m\u001b[43m,\u001b[49m\u001b[43m \u001b[49m\u001b[43margs\u001b[49m\u001b[43m,\u001b[49m\u001b[43m \u001b[49m\u001b[43mparams\u001b[49m\u001b[43m)\u001b[49m\n",
      "\u001b[36mFile \u001b[39m\u001b[32m~/.pyenv/versions/pilco/lib/python3.11/site-packages/jax/_src/core.py:1017\u001b[39m, in \u001b[36mEvalTrace.process_primitive\u001b[39m\u001b[34m(self, primitive, args, params)\u001b[39m\n\u001b[32m   1015\u001b[39m args = \u001b[38;5;28mmap\u001b[39m(full_lower, args)\n\u001b[32m   1016\u001b[39m check_eval_args(args)\n\u001b[32m-> \u001b[39m\u001b[32m1017\u001b[39m \u001b[38;5;28;01mreturn\u001b[39;00m \u001b[43mprimitive\u001b[49m\u001b[43m.\u001b[49m\u001b[43mimpl\u001b[49m\u001b[43m(\u001b[49m\u001b[43m*\u001b[49m\u001b[43margs\u001b[49m\u001b[43m,\u001b[49m\u001b[43m \u001b[49m\u001b[43m*\u001b[49m\u001b[43m*\u001b[49m\u001b[43mparams\u001b[49m\u001b[43m)\u001b[49m\n",
      "\u001b[36mFile \u001b[39m\u001b[32m~/.pyenv/versions/pilco/lib/python3.11/site-packages/jax/_src/dispatch.py:89\u001b[39m, in \u001b[36mapply_primitive\u001b[39m\u001b[34m(prim, *args, **params)\u001b[39m\n\u001b[32m     87\u001b[39m prev = lib.jax_jit.swap_thread_local_state_disable_jit(\u001b[38;5;28;01mFalse\u001b[39;00m)\n\u001b[32m     88\u001b[39m \u001b[38;5;28;01mtry\u001b[39;00m:\n\u001b[32m---> \u001b[39m\u001b[32m89\u001b[39m   outs = \u001b[43mfun\u001b[49m\u001b[43m(\u001b[49m\u001b[43m*\u001b[49m\u001b[43margs\u001b[49m\u001b[43m)\u001b[49m\n\u001b[32m     90\u001b[39m \u001b[38;5;28;01mfinally\u001b[39;00m:\n\u001b[32m     91\u001b[39m   lib.jax_jit.swap_thread_local_state_disable_jit(prev)\n",
      "    \u001b[31m[... skipping hidden 23 frame]\u001b[39m\n",
      "\u001b[36mFile \u001b[39m\u001b[32m~/.pyenv/versions/pilco/lib/python3.11/site-packages/jax/_src/lax/lax.py:6655\u001b[39m, in \u001b[36m_concatenate_shape_rule\u001b[39m\u001b[34m(*operands, **kwargs)\u001b[39m\n\u001b[32m   6651\u001b[39m   msg = (\u001b[33m\"\u001b[39m\u001b[33mCannot concatenate arrays with shapes that differ in dimensions \u001b[39m\u001b[33m\"\u001b[39m\n\u001b[32m   6652\u001b[39m          \u001b[33m\"\u001b[39m\u001b[33mother than the one being concatenated: concatenating along \u001b[39m\u001b[33m\"\u001b[39m\n\u001b[32m   6653\u001b[39m          \u001b[33m\"\u001b[39m\u001b[33mdimension \u001b[39m\u001b[38;5;132;01m{}\u001b[39;00m\u001b[33m for shapes \u001b[39m\u001b[38;5;132;01m{}\u001b[39;00m\u001b[33m.\u001b[39m\u001b[33m\"\u001b[39m)\n\u001b[32m   6654\u001b[39m   shapes = [operand.shape \u001b[38;5;28;01mfor\u001b[39;00m operand \u001b[38;5;129;01min\u001b[39;00m operands]\n\u001b[32m-> \u001b[39m\u001b[32m6655\u001b[39m   \u001b[38;5;28;01mraise\u001b[39;00m \u001b[38;5;167;01mTypeError\u001b[39;00m(msg.format(dimension, \u001b[33m\"\u001b[39m\u001b[33m, \u001b[39m\u001b[33m\"\u001b[39m.join(\u001b[38;5;28mmap\u001b[39m(\u001b[38;5;28mstr\u001b[39m, shapes))))\n\u001b[32m   6657\u001b[39m concat_size = \u001b[38;5;28msum\u001b[39m(o.shape[dimension] \u001b[38;5;28;01mfor\u001b[39;00m o \u001b[38;5;129;01min\u001b[39;00m operands)\n\u001b[32m   6658\u001b[39m ex_shape = operands[\u001b[32m0\u001b[39m].shape\n",
      "\u001b[31mTypeError\u001b[39m: Cannot concatenate arrays with shapes that differ in dimensions other than the one being concatenated: concatenating along dimension 1 for shapes (100, 400, 3), (100, 400, 1)."
     ]
    }
   ],
   "source": [
    "samples = model.get_samples(key, samples, actions, 1)"
   ]
  },
  {
   "cell_type": "code",
   "execution_count": null,
   "id": "6f719779-f0c6-4630-a6f3-38bab2c3409d",
   "metadata": {},
   "outputs": [],
   "source": []
  },
  {
   "cell_type": "code",
   "execution_count": null,
   "id": "386aa4fa-0393-49b1-8356-dd9a3246c186",
   "metadata": {},
   "outputs": [],
   "source": []
  },
  {
   "cell_type": "code",
   "execution_count": 63,
   "id": "5daad16c-0b74-4d34-ac9d-18cde7e2f224",
   "metadata": {},
   "outputs": [
    {
     "data": {
      "text/plain": [
       "(100, 3)"
      ]
     },
     "execution_count": 63,
     "metadata": {},
     "output_type": "execute_result"
    }
   ],
   "source": [
    "samples.shape"
   ]
  },
  {
   "cell_type": "code",
   "execution_count": 22,
   "id": "58e5abf0-4152-413a-9ee8-0ba312407c24",
   "metadata": {},
   "outputs": [],
   "source": [
    "key, subkey = jr.split(key)\n",
    "theta = 2*init_state[0]*jr.uniform(subkey,shape=(num_init_conditions,))-init_state[0]\n",
    "theta_dot = 2*init_state[1]*jr.uniform(subkey,shape=(num_init_conditions,))-init_state[1]\n",
    "samples = jnp.vstack((jnp.sin(theta),jnp.cos(theta),theta_dot)).T"
   ]
  },
  {
   "cell_type": "code",
   "execution_count": 67,
   "id": "8aa04b46-53c9-4c00-a4a8-2cfb31c39fbe",
   "metadata": {},
   "outputs": [
    {
     "data": {
      "text/plain": [
       "((100, 400, 3), (100, 3), (100, 1))"
      ]
     },
     "execution_count": 67,
     "metadata": {},
     "output_type": "execute_result"
    }
   ],
   "source": [
    "initial_particles.shape, samples.shape, actions.shape"
   ]
  },
  {
   "cell_type": "code",
   "execution_count": null,
   "id": "c05dfdae-5009-4437-8518-274f6d709c0f",
   "metadata": {},
   "outputs": [],
   "source": [
    "env_test = gym.make(\"Pendulum-v1\", render_mode=\"rgb_array\")"
   ]
  },
  {
   "cell_type": "code",
   "execution_count": 19,
   "id": "d2633300-204a-4c24-855c-97e594215314",
   "metadata": {},
   "outputs": [
    {
     "data": {
      "image/png": "[encoded data removed]",
      "text/plain": [
       "<Figure size 640x480 with 1 Axes>"
      ]
     },
     "metadata": {
      "image/png": {
       "height": 418,
       "width": 425
      }
     },
     "output_type": "display_data"
    }
   ],
   "source": [
    "# Now try this policy on the real system\n",
    "state, _ = env_test.reset()\n",
    "key, subkey = jr.split(key)\n",
    "u = control_policy(state,0.0)\n",
    "# Randomly sample some points\n",
    "img = plt.imshow(env_test.render()) # only call this once\n",
    "for timestep in np.linspace(0,5000*T_exploration,int(T_exploration/sim_timestep)+1):\n",
    "    z = env_test.step(np.array(u))\n",
    "    state = z[0]\n",
    "    r = z[1]\n",
    "    key, subkey = jr.split(key)\n",
    "    u = control_policy(state,timestep)\n",
    "    img.set_data(env_test.render()) # just update the data\n",
    "    display.display(plt.gcf())\n",
    "    display.clear_output(wait=True)"
   ]
  }
 ],
 "metadata": {
  "kernelspec": {
   "display_name": "Python 3 (ipykernel)",
   "language": "python",
   "name": "python3"
  },
  "language_info": {
   "codemirror_mode": {
    "name": "ipython",
    "version": 3
   },
   "file_extension": ".py",
   "mimetype": "text/x-python",
   "name": "python",
   "nbconvert_exporter": "python",
   "pygments_lexer": "ipython3",
   "version": "3.11.12"
  }
 },
 "nbformat": 4,
 "nbformat_minor": 5
}
