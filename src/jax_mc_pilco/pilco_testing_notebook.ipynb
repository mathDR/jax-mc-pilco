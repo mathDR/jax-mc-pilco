{
 "cells": [
  {
   "cell_type": "markdown",
   "id": "f8e9abc4",
   "metadata": {},
   "source": [
    "# Testing the PILCO framework"
   ]
  },
  {
   "cell_type": "code",
   "execution_count": 1,
   "id": "b17459c9",
   "metadata": {},
   "outputs": [],
   "source": [
    "# %load ~/dev/marthaler/header.py\n",
    "%matplotlib inline\n",
    "%config InlineBackend.figure_format = 'retina'\n",
    "\n",
    "%load_ext autoreload\n",
    "%autoreload 2"
   ]
  },
  {
   "cell_type": "code",
   "execution_count": 2,
   "id": "472b1081",
   "metadata": {},
   "outputs": [],
   "source": [
    "# Enable Float64 for more stable matrix inversions.\n",
    "import jax\n",
    "from jax import Array, config\n",
    "import jax.numpy as jnp\n",
    "from jax.tree_util import Partial\n",
    "import numpy as np\n",
    "import jax.random as jr\n",
    "from jaxtyping import ArrayLike, install_import_hook\n",
    "import matplotlib as mpl\n",
    "import matplotlib.pyplot as plt\n",
    "\n",
    "config.update(\"jax_enable_x64\", True)\n",
    "import gpjax as gpx\n",
    "\n",
    "key = jr.key(123)\n",
    "\n",
    "cols = mpl.rcParams[\"axes.prop_cycle\"].by_key()[\"color\"]"
   ]
  },
  {
   "cell_type": "code",
   "execution_count": 3,
   "id": "65f9622e-a274-4455-b8e1-9e140aaa179e",
   "metadata": {},
   "outputs": [],
   "source": [
    "import gymnasium as gym"
   ]
  },
  {
   "cell_type": "code",
   "execution_count": 4,
   "id": "fe0be395-3a8b-4d20-938c-17ce1dbde1a2",
   "metadata": {},
   "outputs": [],
   "source": [
    "from controllers import RandomController, Sum_of_Sinusoids\n",
    "from model_learning.gp_models import MGPR"
   ]
  },
  {
   "cell_type": "code",
   "execution_count": 5,
   "id": "f8e73c67-3fe9-4ecb-a2ad-17fd972a7780",
   "metadata": {},
   "outputs": [],
   "source": [
    "from flax import nnx\n",
    "import typing_extensions as tpe\n",
    "import optax as ox\n",
    "from gpjax.typing import (\n",
    "    ScalarFloat,\n",
    ")\n",
    "from typing import Tuple"
   ]
  },
  {
   "cell_type": "code",
   "execution_count": 6,
   "id": "5d4feb25-b36f-48aa-a392-582416d4ce0e",
   "metadata": {},
   "outputs": [],
   "source": [
    "from IPython import display"
   ]
  },
  {
   "cell_type": "markdown",
   "id": "9a634df7",
   "metadata": {},
   "source": [
    "# Functions"
   ]
  },
  {
   "cell_type": "code",
   "execution_count": 7,
   "id": "c6b20d7c",
   "metadata": {},
   "outputs": [],
   "source": [
    "def cart_pole_cost(\n",
    "    states_sequence: ArrayLike, \n",
    "    target_state: ArrayLike = jnp.array([jnp.pi,0.0]), \n",
    "    lengthscales: ArrayLike = jnp.array([3.0,1.0]),\n",
    "    angle_index:int = 2,\n",
    "    pos_index:int = 0\n",
    ")->Array:\n",
    "    \"\"\"\n",
    "    Cost function given by the combination of the saturated distance between |theta| and 'target angle', and between x and 'target position'.\n",
    "    \"\"\"\n",
    "    x = states_sequence[pos_index]\n",
    "    theta = states_sequence[angle_index]\n",
    "\n",
    "    target_x = target_state[1]\n",
    "    target_theta = target_state[0]\n",
    "\n",
    "    return 1 - jnp.exp(\n",
    "        -(jnp.square((jnp.abs(theta) - target_theta) / lengthscales[0])) - jnp.square((x - target_x) / lengthscales[1])\n",
    "    )"
   ]
  },
  {
   "cell_type": "markdown",
   "id": "fd668a3b-8572-48af-9f17-dc2e09017016",
   "metadata": {},
   "source": [
    "## Globals"
   ]
  },
  {
   "cell_type": "code",
   "execution_count": 8,
   "id": "89c302a1-6c75-457a-a2d3-2900a4b7592a",
   "metadata": {},
   "outputs": [],
   "source": [
    "num_particles = 400"
   ]
  },
  {
   "cell_type": "code",
   "execution_count": 9,
   "id": "ff220556-f495-4132-b368-e40580ee2d20",
   "metadata": {},
   "outputs": [],
   "source": [
    "num_trials = 5\n",
    "T_sampling = 0.05\n",
    "T_exploration = 3.0\n",
    "T_control = 3.0\n",
    "sim_timestep = 0.01"
   ]
  },
  {
   "cell_type": "markdown",
   "id": "2c4810d6",
   "metadata": {},
   "source": [
    "## Generate the environments"
   ]
  },
  {
   "cell_type": "code",
   "execution_count": 10,
   "id": "04b1bcf0",
   "metadata": {},
   "outputs": [
    {
     "ename": "DependencyNotInstalled",
     "evalue": "MuJoCo is not installed, run `pip install \"gymnasium[mujoco]\"`",
     "output_type": "error",
     "traceback": [
      "\u001b[31m---------------------------------------------------------------------------\u001b[39m",
      "\u001b[31mModuleNotFoundError\u001b[39m                       Traceback (most recent call last)",
      "\u001b[36mFile \u001b[39m\u001b[32m~/.pyenv/versions/pilco/lib/python3.11/site-packages/gymnasium/envs/mujoco/mujoco_env.py:13\u001b[39m\n\u001b[32m     12\u001b[39m \u001b[38;5;28;01mtry\u001b[39;00m:\n\u001b[32m---> \u001b[39m\u001b[32m13\u001b[39m     \u001b[38;5;28;01mimport\u001b[39;00m\u001b[38;5;250m \u001b[39m\u001b[34;01mmujoco\u001b[39;00m\n\u001b[32m     14\u001b[39m \u001b[38;5;28;01mexcept\u001b[39;00m \u001b[38;5;167;01mImportError\u001b[39;00m \u001b[38;5;28;01mas\u001b[39;00m e:\n",
      "\u001b[31mModuleNotFoundError\u001b[39m: No module named 'mujoco'",
      "\nThe above exception was the direct cause of the following exception:\n",
      "\u001b[31mDependencyNotInstalled\u001b[39m                    Traceback (most recent call last)",
      "\u001b[36mCell\u001b[39m\u001b[36m \u001b[39m\u001b[32mIn[10]\u001b[39m\u001b[32m, line 1\u001b[39m\n\u001b[32m----> \u001b[39m\u001b[32m1\u001b[39m env = \u001b[43mgym\u001b[49m\u001b[43m.\u001b[49m\u001b[43mmake\u001b[49m\u001b[43m(\u001b[49m\u001b[33;43m\"\u001b[39;49m\u001b[33;43mInvertedPendulum-v5\u001b[39;49m\u001b[33;43m\"\u001b[39;49m\u001b[43m)\u001b[49m\n\u001b[32m      2\u001b[39m env_test = gym.make(\u001b[33m\"\u001b[39m\u001b[33mInvertedPendulum-v5\u001b[39m\u001b[33m\"\u001b[39m, render_mode=\u001b[33m'\u001b[39m\u001b[33mrgb_array\u001b[39m\u001b[33m'\u001b[39m)\n",
      "\u001b[36mFile \u001b[39m\u001b[32m~/.pyenv/versions/pilco/lib/python3.11/site-packages/gymnasium/envs/registration.py:704\u001b[39m, in \u001b[36mmake\u001b[39m\u001b[34m(id, max_episode_steps, disable_env_checker, **kwargs)\u001b[39m\n\u001b[32m    701\u001b[39m     env_creator = env_spec.entry_point\n\u001b[32m    702\u001b[39m \u001b[38;5;28;01melse\u001b[39;00m:\n\u001b[32m    703\u001b[39m     \u001b[38;5;66;03m# Assume it's a string\u001b[39;00m\n\u001b[32m--> \u001b[39m\u001b[32m704\u001b[39m     env_creator = \u001b[43mload_env_creator\u001b[49m\u001b[43m(\u001b[49m\u001b[43menv_spec\u001b[49m\u001b[43m.\u001b[49m\u001b[43mentry_point\u001b[49m\u001b[43m)\u001b[49m\n\u001b[32m    706\u001b[39m \u001b[38;5;66;03m# Determine if to use the rendering\u001b[39;00m\n\u001b[32m    707\u001b[39m render_modes: \u001b[38;5;28mlist\u001b[39m[\u001b[38;5;28mstr\u001b[39m] | \u001b[38;5;28;01mNone\u001b[39;00m = \u001b[38;5;28;01mNone\u001b[39;00m\n",
      "\u001b[36mFile \u001b[39m\u001b[32m~/.pyenv/versions/pilco/lib/python3.11/site-packages/gymnasium/envs/registration.py:551\u001b[39m, in \u001b[36mload_env_creator\u001b[39m\u001b[34m(name)\u001b[39m\n\u001b[32m    542\u001b[39m \u001b[38;5;250m\u001b[39m\u001b[33;03m\"\"\"Loads an environment with name of style ``\"(import path):(environment name)\"`` and returns the environment creation function, normally the environment class type.\u001b[39;00m\n\u001b[32m    543\u001b[39m \n\u001b[32m    544\u001b[39m \u001b[33;03mArgs:\u001b[39;00m\n\u001b[32m   (...)\u001b[39m\u001b[32m    548\u001b[39m \u001b[33;03m    The environment constructor for the given environment name.\u001b[39;00m\n\u001b[32m    549\u001b[39m \u001b[33;03m\"\"\"\u001b[39;00m\n\u001b[32m    550\u001b[39m mod_name, attr_name = name.split(\u001b[33m\"\u001b[39m\u001b[33m:\u001b[39m\u001b[33m\"\u001b[39m)\n\u001b[32m--> \u001b[39m\u001b[32m551\u001b[39m mod = \u001b[43mimportlib\u001b[49m\u001b[43m.\u001b[49m\u001b[43mimport_module\u001b[49m\u001b[43m(\u001b[49m\u001b[43mmod_name\u001b[49m\u001b[43m)\u001b[49m\n\u001b[32m    552\u001b[39m fn = \u001b[38;5;28mgetattr\u001b[39m(mod, attr_name)\n\u001b[32m    553\u001b[39m \u001b[38;5;28;01mreturn\u001b[39;00m fn\n",
      "\u001b[36mFile \u001b[39m\u001b[32m~/.pyenv/versions/3.11.11/lib/python3.11/importlib/__init__.py:126\u001b[39m, in \u001b[36mimport_module\u001b[39m\u001b[34m(name, package)\u001b[39m\n\u001b[32m    124\u001b[39m             \u001b[38;5;28;01mbreak\u001b[39;00m\n\u001b[32m    125\u001b[39m         level += \u001b[32m1\u001b[39m\n\u001b[32m--> \u001b[39m\u001b[32m126\u001b[39m \u001b[38;5;28;01mreturn\u001b[39;00m \u001b[43m_bootstrap\u001b[49m\u001b[43m.\u001b[49m\u001b[43m_gcd_import\u001b[49m\u001b[43m(\u001b[49m\u001b[43mname\u001b[49m\u001b[43m[\u001b[49m\u001b[43mlevel\u001b[49m\u001b[43m:\u001b[49m\u001b[43m]\u001b[49m\u001b[43m,\u001b[49m\u001b[43m \u001b[49m\u001b[43mpackage\u001b[49m\u001b[43m,\u001b[49m\u001b[43m \u001b[49m\u001b[43mlevel\u001b[49m\u001b[43m)\u001b[49m\n",
      "\u001b[36mFile \u001b[39m\u001b[32m<frozen importlib._bootstrap>:1204\u001b[39m, in \u001b[36m_gcd_import\u001b[39m\u001b[34m(name, package, level)\u001b[39m\n",
      "\u001b[36mFile \u001b[39m\u001b[32m<frozen importlib._bootstrap>:1176\u001b[39m, in \u001b[36m_find_and_load\u001b[39m\u001b[34m(name, import_)\u001b[39m\n",
      "\u001b[36mFile \u001b[39m\u001b[32m<frozen importlib._bootstrap>:1126\u001b[39m, in \u001b[36m_find_and_load_unlocked\u001b[39m\u001b[34m(name, import_)\u001b[39m\n",
      "\u001b[36mFile \u001b[39m\u001b[32m<frozen importlib._bootstrap>:241\u001b[39m, in \u001b[36m_call_with_frames_removed\u001b[39m\u001b[34m(f, *args, **kwds)\u001b[39m\n",
      "\u001b[36mFile \u001b[39m\u001b[32m<frozen importlib._bootstrap>:1204\u001b[39m, in \u001b[36m_gcd_import\u001b[39m\u001b[34m(name, package, level)\u001b[39m\n",
      "\u001b[36mFile \u001b[39m\u001b[32m<frozen importlib._bootstrap>:1176\u001b[39m, in \u001b[36m_find_and_load\u001b[39m\u001b[34m(name, import_)\u001b[39m\n",
      "\u001b[36mFile \u001b[39m\u001b[32m<frozen importlib._bootstrap>:1147\u001b[39m, in \u001b[36m_find_and_load_unlocked\u001b[39m\u001b[34m(name, import_)\u001b[39m\n",
      "\u001b[36mFile \u001b[39m\u001b[32m<frozen importlib._bootstrap>:690\u001b[39m, in \u001b[36m_load_unlocked\u001b[39m\u001b[34m(spec)\u001b[39m\n",
      "\u001b[36mFile \u001b[39m\u001b[32m<frozen importlib._bootstrap_external>:940\u001b[39m, in \u001b[36mexec_module\u001b[39m\u001b[34m(self, module)\u001b[39m\n",
      "\u001b[36mFile \u001b[39m\u001b[32m<frozen importlib._bootstrap>:241\u001b[39m, in \u001b[36m_call_with_frames_removed\u001b[39m\u001b[34m(f, *args, **kwds)\u001b[39m\n",
      "\u001b[36mFile \u001b[39m\u001b[32m~/.pyenv/versions/pilco/lib/python3.11/site-packages/gymnasium/envs/mujoco/__init__.py:1\u001b[39m\n\u001b[32m----> \u001b[39m\u001b[32m1\u001b[39m \u001b[38;5;28;01mfrom\u001b[39;00m\u001b[38;5;250m \u001b[39m\u001b[34;01mgymnasium\u001b[39;00m\u001b[34;01m.\u001b[39;00m\u001b[34;01menvs\u001b[39;00m\u001b[34;01m.\u001b[39;00m\u001b[34;01mmujoco\u001b[39;00m\u001b[34;01m.\u001b[39;00m\u001b[34;01mmujoco_env\u001b[39;00m\u001b[38;5;250m \u001b[39m\u001b[38;5;28;01mimport\u001b[39;00m MujocoEnv\n\u001b[32m      2\u001b[39m \u001b[38;5;28;01mfrom\u001b[39;00m\u001b[38;5;250m \u001b[39m\u001b[34;01mgymnasium\u001b[39;00m\u001b[34;01m.\u001b[39;00m\u001b[34;01menvs\u001b[39;00m\u001b[34;01m.\u001b[39;00m\u001b[34;01mmujoco\u001b[39;00m\u001b[34;01m.\u001b[39;00m\u001b[34;01mmujoco_rendering\u001b[39;00m\u001b[38;5;250m \u001b[39m\u001b[38;5;28;01mimport\u001b[39;00m MujocoRenderer\n",
      "\u001b[36mFile \u001b[39m\u001b[32m~/.pyenv/versions/pilco/lib/python3.11/site-packages/gymnasium/envs/mujoco/mujoco_env.py:15\u001b[39m\n\u001b[32m     13\u001b[39m     \u001b[38;5;28;01mimport\u001b[39;00m\u001b[38;5;250m \u001b[39m\u001b[34;01mmujoco\u001b[39;00m\n\u001b[32m     14\u001b[39m \u001b[38;5;28;01mexcept\u001b[39;00m \u001b[38;5;167;01mImportError\u001b[39;00m \u001b[38;5;28;01mas\u001b[39;00m e:\n\u001b[32m---> \u001b[39m\u001b[32m15\u001b[39m     \u001b[38;5;28;01mraise\u001b[39;00m error.DependencyNotInstalled(\n\u001b[32m     16\u001b[39m         \u001b[33m'\u001b[39m\u001b[33mMuJoCo is not installed, run `pip install \u001b[39m\u001b[33m\"\u001b[39m\u001b[33mgymnasium[mujoco]\u001b[39m\u001b[33m\"\u001b[39m\u001b[33m`\u001b[39m\u001b[33m'\u001b[39m\n\u001b[32m     17\u001b[39m     ) \u001b[38;5;28;01mfrom\u001b[39;00m\u001b[38;5;250m \u001b[39m\u001b[34;01me\u001b[39;00m\n\u001b[32m     20\u001b[39m DEFAULT_SIZE = \u001b[32m480\u001b[39m\n\u001b[32m     23\u001b[39m \u001b[38;5;28;01mdef\u001b[39;00m\u001b[38;5;250m \u001b[39m\u001b[34mexpand_model_path\u001b[39m(model_path: \u001b[38;5;28mstr\u001b[39m) -> \u001b[38;5;28mstr\u001b[39m:\n",
      "\u001b[31mDependencyNotInstalled\u001b[39m: MuJoCo is not installed, run `pip install \"gymnasium[mujoco]\"`"
     ]
    }
   ],
   "source": [
    "env = gym.make(\"InvertedPendulum-v5\")\n",
    "env_test = gym.make(\"InvertedPendulum-v5\", render_mode='rgb_array')"
   ]
  },
  {
   "cell_type": "code",
   "execution_count": 11,
   "id": "4e6fb3ac",
   "metadata": {},
   "outputs": [],
   "source": [
    "action_dim = env.action_space.shape[0]\n",
    "x, _ = env.reset()\n",
    "state_dim = x.shape[0]\n",
    "num_basis = 200\n",
    "umax = 3.0\n",
    "policy = Sum_of_Sinusoids(state_dim, action_dim, num_basis, -jnp.pi, jnp.pi, -1.0, 1.0, True, umax)"
   ]
  },
  {
   "cell_type": "code",
   "execution_count": 12,
   "id": "f020d34e",
   "metadata": {},
   "outputs": [],
   "source": [
    "# Initialize a random controller\n",
    "exploration_policy = RandomController(state_dim,action_dim,True,3.0)"
   ]
  },
  {
   "cell_type": "code",
   "execution_count": 13,
   "id": "60662edf",
   "metadata": {},
   "outputs": [],
   "source": [
    "# Randomly sample some points\n",
    "key = jr.key(42)\n",
    "x, _ = env.reset()\n",
    "states = [x]\n",
    "key, subkey = jr.split(key)\n",
    "u = exploration_policy(x,0,subkey)\n",
    "actions = [u]\n",
    "\n",
    "for timestep in np.linspace(0,T_exploration,int(T_exploration/sim_timestep)+1):\n",
    "    z = env.step(np.array(u))\n",
    "    x = z[0]\n",
    "    states.append(x)\n",
    "    key, subkey = jr.split(key)\n",
    "    u = exploration_policy(x,timestep,subkey)\n",
    "    actions.append(u)"
   ]
  },
  {
   "cell_type": "code",
   "execution_count": 14,
   "id": "44177063",
   "metadata": {},
   "outputs": [],
   "source": [
    "model = MGPR(states=jnp.array(states),actions=jnp.array(actions))"
   ]
  },
  {
   "cell_type": "code",
   "execution_count": 15,
   "id": "cce380ca",
   "metadata": {},
   "outputs": [
    {
     "data": {
      "application/vnd.jupyter.widget-view+json": {
       "model_id": "2898c743644f4196baac547d0fcae248",
       "version_major": 2,
       "version_minor": 0
      },
      "text/plain": [
       "  0%|          | 0/1000 [00:00<?, ?it/s]"
      ]
     },
     "metadata": {},
     "output_type": "display_data"
    },
    {
     "name": "stderr",
     "output_type": "stream",
     "text": [
      "/Users/daniel.marthaler/.pyenv/versions/pilco/lib/python3.11/site-packages/cola/backends/backends.py:75: FutureWarning: `torch.utils._pytree._register_pytree_node` is deprecated. Please use `torch.utils._pytree.register_pytree_node` instead.\n",
      "  torch.utils._pytree._register_pytree_node(cls, tree_flatten, tree_unflatten)\n",
      "/Users/daniel.marthaler/.pyenv/versions/pilco/lib/python3.11/site-packages/cola/backends/backends.py:75: FutureWarning: `torch.utils._pytree._register_pytree_node` is deprecated. Please use `torch.utils._pytree.register_pytree_node` instead.\n",
      "  torch.utils._pytree._register_pytree_node(cls, tree_flatten, tree_unflatten)\n"
     ]
    },
    {
     "data": {
      "application/vnd.jupyter.widget-view+json": {
       "model_id": "fd1baf7fac904bbd935a3a2d11e17102",
       "version_major": 2,
       "version_minor": 0
      },
      "text/plain": [
       "  0%|          | 0/1000 [00:00<?, ?it/s]"
      ]
     },
     "metadata": {},
     "output_type": "display_data"
    },
    {
     "data": {
      "application/vnd.jupyter.widget-view+json": {
       "model_id": "c664e178b456433a848f43de717a1976",
       "version_major": 2,
       "version_minor": 0
      },
      "text/plain": [
       "  0%|          | 0/1000 [00:00<?, ?it/s]"
      ]
     },
     "metadata": {},
     "output_type": "display_data"
    },
    {
     "data": {
      "application/vnd.jupyter.widget-view+json": {
       "model_id": "4e5d1519ac8744749b0d5a7de8a697c2",
       "version_major": 2,
       "version_minor": 0
      },
      "text/plain": [
       "  0%|          | 0/1000 [00:00<?, ?it/s]"
      ]
     },
     "metadata": {},
     "output_type": "display_data"
    }
   ],
   "source": [
    "# Should vmap the optimization\n",
    "model.optimize()"
   ]
  },
  {
   "cell_type": "code",
   "execution_count": 16,
   "id": "4695266b",
   "metadata": {},
   "outputs": [],
   "source": [
    "# Now do a rollout with this model\n",
    "# Generate an initial state\n",
    "x, _ = env.reset()\n",
    "key, subkey = jr.split(key)\n",
    "# Generate an initial (action\n",
    "u = exploration_policy(x,timestep,subkey)"
   ]
  },
  {
   "cell_type": "code",
   "execution_count": 17,
   "id": "d84f9461-c7bf-4fc5-bdca-58b29ff5fdfb",
   "metadata": {},
   "outputs": [],
   "source": [
    "test_inputs = model.data_to_gp_input(states, actions)"
   ]
  },
  {
   "cell_type": "code",
   "execution_count": 18,
   "id": "f0e6bea0-1751-4260-bc07-da191948661f",
   "metadata": {},
   "outputs": [
    {
     "name": "stderr",
     "output_type": "stream",
     "text": [
      "/Users/daniel.marthaler/.pyenv/versions/pilco/lib/python3.11/site-packages/cola/backends/backends.py:75: FutureWarning: `torch.utils._pytree._register_pytree_node` is deprecated. Please use `torch.utils._pytree.register_pytree_node` instead.\n",
      "  torch.utils._pytree._register_pytree_node(cls, tree_flatten, tree_unflatten)\n"
     ]
    }
   ],
   "source": [
    "predictive_means = []\n",
    "predictive_stds = []\n",
    "for i in range(model.num_outputs):\n",
    "    latent_dist = model.models[i].predict(\n",
    "        test_inputs,\n",
    "        train_data=gpx.Dataset(\n",
    "            X=model.data.X, y=model.data.y[:, i].reshape(-1, 1)\n",
    "        ),\n",
    "    )\n",
    "    predictive_dist = model.models[i].likelihood(latent_dist)\n",
    "\n",
    "    predictive_means.append(predictive_dist.mean())\n",
    "    predictive_stds.append(predictive_dist.stddev())\n",
    "predictive_moments = jnp.stack(\n",
    "    (\n",
    "        jnp.array(predictive_means).T + test_inputs[:, : model.num_outputs],\n",
    "        jnp.array(predictive_stds).T,\n",
    "    ),\n",
    "    axis=2,\n",
    ")\n"
   ]
  },
  {
   "cell_type": "code",
   "execution_count": null,
   "id": "3a341ad6-c654-4c03-b233-3dc17b9d84da",
   "metadata": {},
   "outputs": [],
   "source": []
  },
  {
   "cell_type": "code",
   "execution_count": null,
   "id": "6b2419e4-a950-4030-a8f1-0260a70724c0",
   "metadata": {},
   "outputs": [],
   "source": []
  },
  {
   "cell_type": "code",
   "execution_count": 17,
   "id": "b5c303f0",
   "metadata": {},
   "outputs": [
    {
     "name": "stderr",
     "output_type": "stream",
     "text": [
      "/Users/daniel.marthaler/.pyenv/versions/pilco/lib/python3.11/site-packages/cola/backends/backends.py:75: FutureWarning: `torch.utils._pytree._register_pytree_node` is deprecated. Please use `torch.utils._pytree.register_pytree_node` instead.\n",
      "  torch.utils._pytree._register_pytree_node(cls, tree_flatten, tree_unflatten)\n"
     ]
    }
   ],
   "source": [
    "# initialize some particles\n",
    "initial_particles = model.get_samples(key, jnp.array([x]), jnp.array([u]), num_particles)"
   ]
  },
  {
   "cell_type": "code",
   "execution_count": 19,
   "id": "d9a62f94-768d-44c3-83ea-9b0d298957f1",
   "metadata": {},
   "outputs": [],
   "source": [
    "def one_rollout_step(carry, t):\n",
    "    graphdef, params, get_samples, key, samples, total_cost = carry\n",
    "    compute_action = nnx.merge(graphdef, params)\n",
    "    actions = jax.vmap(compute_action)(samples,jnp.tile(t,num_particles))\n",
    "\n",
    "    key, subkey = jr.split(key)\n",
    "    samples = get_samples(key, samples, actions, 1)\n",
    "    cost = jnp.sum(jax.vmap(cart_pole_cost)(jnp.hstack((samples, actions))))\n",
    "    return (graphdef, params,get_samples,key,samples,total_cost+cost), cost\n",
    "\n",
    "def rollout(\n",
    "    params: nnx.statelib.State,\n",
    "    graphdef: nnx.graph.NodeDef,\n",
    "    init_samples: ArrayLike,\n",
    "    model: nnx.Module,\n",
    "    timesteps: ArrayLike,\n",
    "    key = jr.key(123),\n",
    ")->ScalarFloat:\n",
    "    get_samples = Partial(model.get_samples)\n",
    "    total_cost = 0\n",
    "    (graphdef, params,get_samples,key,samples,total_cost), result = jax.lax.scan(\n",
    "        one_rollout_step, (graphdef, params,get_samples,key,init_samples,total_cost), timesteps\n",
    "    )\n",
    "    return total_cost/len(timesteps)"
   ]
  },
  {
   "cell_type": "code",
   "execution_count": 21,
   "id": "1e28c5bc-f756-4702-822c-3ff5e5b30dbd",
   "metadata": {},
   "outputs": [],
   "source": [
    "control_horizon = int(T_control/T_sampling)"
   ]
  },
  {
   "cell_type": "code",
   "execution_count": 22,
   "id": "328b467c-da45-4060-bb7b-d48b76f79fc6",
   "metadata": {},
   "outputs": [],
   "source": [
    "objective_fun = Partial(rollout,init_samples=initial_particles,model=model,timesteps=jnp.arange(control_horizon))"
   ]
  },
  {
   "cell_type": "code",
   "execution_count": 23,
   "id": "a2fe2279-1c48-42bb-bd87-cf0560d78383",
   "metadata": {},
   "outputs": [],
   "source": [
    "def fit_controller(  # noqa: PLR0913\n",
    "    *,\n",
    "    policy: nnx.Module,\n",
    "    objective: tpe.Callable[[nnx.Module,None],ScalarFloat],\n",
    "    optim: ox.GradientTransformation,\n",
    "    key: ArrayLike = jr.PRNGKey(42),\n",
    "    num_iters: int = 100,\n",
    "    unroll: int = 5,\n",
    ")->Tuple[nnx.Module,Array]:\n",
    "    \n",
    "    graphdef, params = nnx.split(policy)\n",
    "    \n",
    "    def loss(params: nnx.State):\n",
    "        return objective(params,graphdef)\n",
    "    \n",
    "    opt_state = optim.init(params)\n",
    "    \n",
    "    # Mini-batch random keys to scan over.\n",
    "    iter_keys = jr.split(key, num_iters)\n",
    "    \n",
    "    # Optimisation step.\n",
    "    @jax.jit\n",
    "    def step(carry, key):\n",
    "        params, opt_state = carry\n",
    "    \n",
    "        loss_val, loss_gradient = jax.value_and_grad(loss)(params)\n",
    "        updates, opt_state = optim.update(loss_gradient, opt_state, params, value=loss_val, grad=loss_gradient,value_fn=loss)\n",
    "        params = ox.apply_updates(params, updates)\n",
    "    \n",
    "        carry = params, opt_state\n",
    "        return carry, loss_val\n",
    "    \n",
    "    # Optimisation loop.\n",
    "    (params, _), history = jax.lax.scan(step, (params, opt_state), (iter_keys), unroll=unroll)\n",
    "    \n",
    "    # Reconstruct model\n",
    "    return_policy = nnx.merge(graphdef, params)\n",
    "    return return_policy, history"
   ]
  },
  {
   "cell_type": "code",
   "execution_count": 24,
   "id": "f69a69d1-6f01-4b45-b35c-3ab32b8dc2bf",
   "metadata": {},
   "outputs": [],
   "source": [
    "optimizer = ox.adam(learning_rate=1e-3)"
   ]
  },
  {
   "cell_type": "code",
   "execution_count": 26,
   "id": "ee4f7450-5fd4-4154-b968-b2f7362469e1",
   "metadata": {},
   "outputs": [
    {
     "name": "stdout",
     "output_type": "stream",
     "text": [
      "CPU times: user 17min 18s, sys: 1min 18s, total: 18min 37s\n",
      "Wall time: 5min 22s\n"
     ]
    }
   ],
   "source": [
    "%%time\n",
    "op, hist = fit_controller(policy = policy, objective = objective_fun, optim=optimizer, num_iters=100)"
   ]
  },
  {
   "cell_type": "code",
   "execution_count": 27,
   "id": "bd808913-2c61-4842-be27-e8ed5a318dc0",
   "metadata": {},
   "outputs": [
    {
     "name": "stdout",
     "output_type": "stream",
     "text": [
      "CPU times: user 2h 52min 19s, sys: 13min 45s, total: 3h 6min 5s\n",
      "Wall time: 52min 48s\n"
     ]
    }
   ],
   "source": [
    "%%time\n",
    "op, hist = fit_controller(policy = policy, objective = objective_fun, optim=optimizer, num_iters=1000)"
   ]
  },
  {
   "cell_type": "code",
   "execution_count": 28,
   "id": "fbcb82cb-9491-4a67-8123-891f98363f4e",
   "metadata": {},
   "outputs": [
    {
     "name": "stdout",
     "output_type": "stream",
     "text": [
      "CPU times: user 1d 4h 40min 58s, sys: 2h 2min 24s, total: 1d 6h 43min 23s\n",
      "Wall time: 8h 36min\n"
     ]
    }
   ],
   "source": [
    "%%time\n",
    "op, hist = fit_controller(policy = policy, objective = objective_fun, optim=optimizer, num_iters=10000)"
   ]
  },
  {
   "cell_type": "code",
   "execution_count": null,
   "id": "045b5e94-3505-49c6-91a4-680cecd28aed",
   "metadata": {},
   "outputs": [],
   "source": []
  },
  {
   "cell_type": "code",
   "execution_count": 28,
   "id": "48a03a8c-b40a-4a2b-8dd5-d435544ab26b",
   "metadata": {},
   "outputs": [
    {
     "data": {
      "image/png": "[encoded data removed]",
      "text/plain": [
       "<Figure size 640x480 with 1 Axes>"
      ]
     },
     "metadata": {
      "image/png": {
       "height": 418,
       "width": 425
      }
     },
     "output_type": "display_data"
    }
   ],
   "source": [
    "# Now try this policy on the real system\n",
    "x, _ = env_test.reset()\n",
    "key, subkey = jr.split(key)\n",
    "u = policy(x,timestep,subkey)\n",
    "# Randomly sample some points\n",
    "states.append(x)\n",
    "actions.append(u)\n",
    "img = plt.imshow(env_test.render()) # only call this once\n",
    "for timestep in np.linspace(0,T_exploration,int(T_exploration/sim_timestep)+1):\n",
    "    z = env_test.step(np.array(u))\n",
    "    x = z[0]\n",
    "    r = z[1]\n",
    "    key, subkey = jr.split(key)\n",
    "    u = policy(x,timestep,subkey)\n",
    "    states.append(x)\n",
    "    actions.append(u)\n",
    "    img.set_data(env_test.render()) # just update the data\n",
    "    display.display(plt.gcf())\n",
    "    display.clear_output(wait=True)"
   ]
  },
  {
   "cell_type": "code",
   "execution_count": 29,
   "id": "7cf4c9a8-9bb6-42fa-96a7-57289b4057fa",
   "metadata": {},
   "outputs": [
    {
     "data": {
      "application/vnd.jupyter.widget-view+json": {
       "model_id": "1e5c2f1823fc428687df8296e6f8d17f",
       "version_major": 2,
       "version_minor": 0
      },
      "text/plain": [
       "  0%|          | 0/1000 [00:00<?, ?it/s]"
      ]
     },
     "metadata": {},
     "output_type": "display_data"
    },
    {
     "data": {
      "application/vnd.jupyter.widget-view+json": {
       "model_id": "15fb8e1b162e4bd29f02cc55ff972356",
       "version_major": 2,
       "version_minor": 0
      },
      "text/plain": [
       "  0%|          | 0/1000 [00:00<?, ?it/s]"
      ]
     },
     "metadata": {},
     "output_type": "display_data"
    },
    {
     "data": {
      "application/vnd.jupyter.widget-view+json": {
       "model_id": "1bdd3336d4b84bb68f36f9e200c38542",
       "version_major": 2,
       "version_minor": 0
      },
      "text/plain": [
       "  0%|          | 0/1000 [00:00<?, ?it/s]"
      ]
     },
     "metadata": {},
     "output_type": "display_data"
    },
    {
     "data": {
      "application/vnd.jupyter.widget-view+json": {
       "model_id": "3119414ee51a4072822df4ec732687ed",
       "version_major": 2,
       "version_minor": 0
      },
      "text/plain": [
       "  0%|          | 0/1000 [00:00<?, ?it/s]"
      ]
     },
     "metadata": {},
     "output_type": "display_data"
    }
   ],
   "source": [
    "model = DynamicalModel(states=jnp.array(states),actions=jnp.array(actions))\n",
    "model.optimize()"
   ]
  },
  {
   "cell_type": "code",
   "execution_count": 31,
   "id": "93a312c1-309d-4450-9a84-ee60d31285fb",
   "metadata": {},
   "outputs": [
    {
     "data": {
      "text/plain": [
       "606"
      ]
     },
     "execution_count": 31,
     "metadata": {},
     "output_type": "execute_result"
    }
   ],
   "source": [
    "len(states)"
   ]
  },
  {
   "cell_type": "code",
   "execution_count": 32,
   "id": "9dad61aa-8574-4e7c-9cee-8103db1f9ab8",
   "metadata": {},
   "outputs": [],
   "source": [
    "# Now do a rollout with this model\n",
    "# Generate an initial state\n",
    "x, _ = env.reset()\n",
    "key, subkey = jr.split(key)\n",
    "# Generate an initial (action\n",
    "u = exploration_policy(x,timestep,subkey)"
   ]
  },
  {
   "cell_type": "code",
   "execution_count": 33,
   "id": "0f32043a-6bb3-4b27-9b46-07672916c1df",
   "metadata": {},
   "outputs": [],
   "source": [
    "initial_particles = model.get_samples(key, jnp.array([x]), jnp.array([u]), num_particles)"
   ]
  },
  {
   "cell_type": "code",
   "execution_count": 34,
   "id": "b2eae214-d5f8-4b31-bad1-62f34eeb3348",
   "metadata": {},
   "outputs": [],
   "source": [
    "objective_fun = Partial(rollout,init_samples=initial_particles,model=model,timesteps=timesteps)"
   ]
  },
  {
   "cell_type": "code",
   "execution_count": 35,
   "id": "1f2f84aa-4614-4617-aa2b-71e308c439ce",
   "metadata": {},
   "outputs": [
    {
     "name": "stdout",
     "output_type": "stream",
     "text": [
      "CPU times: user 2min 10s, sys: 14 s, total: 2min 24s\n",
      "Wall time: 1min 33s\n"
     ]
    }
   ],
   "source": [
    "%%time\n",
    "policy,history = fit_controller(policy=policy,objective=objective_fun,optim=optimizer,num_iters=100)"
   ]
  },
  {
   "cell_type": "code",
   "execution_count": 36,
   "id": "786d7558-d45c-4d89-8231-d718839162e8",
   "metadata": {},
   "outputs": [
    {
     "data": {
      "image/png": "[encoded data removed]",
      "text/plain": [
       "<Figure size 640x480 with 1 Axes>"
      ]
     },
     "metadata": {
      "image/png": {
       "height": 418,
       "width": 425
      }
     },
     "output_type": "display_data"
    }
   ],
   "source": [
    "# Now try this policy on the real system\n",
    "x, _ = env_test.reset()\n",
    "key, subkey = jr.split(key)\n",
    "u = policy(x,timestep,subkey)\n",
    "# Randomly sample some points\n",
    "states.append(x)\n",
    "actions.append(u)\n",
    "img = plt.imshow(env_test.render()) # only call this once\n",
    "for timestep in np.linspace(0,T_exploration,int(T_exploration/sim_timestep)+1):\n",
    "    z = env_test.step(np.array(u))\n",
    "    x = z[0]\n",
    "    r = z[1]\n",
    "    key, subkey = jr.split(key)\n",
    "    u = policy(x,timestep,subkey)\n",
    "    states.append(x)\n",
    "    actions.append(u)\n",
    "    img.set_data(env_test.render()) # just update the data\n",
    "    display.display(plt.gcf())\n",
    "    display.clear_output(wait=True)"
   ]
  },
  {
   "cell_type": "code",
   "execution_count": 39,
   "id": "7ddc30cd-fb2d-403b-acb0-25aa7f4f8dc3",
   "metadata": {},
   "outputs": [
    {
     "data": {
      "application/vnd.jupyter.widget-view+json": {
       "model_id": "2a90aa405f8545caaf385ded6f9a7a29",
       "version_major": 2,
       "version_minor": 0
      },
      "text/plain": [
       "  0%|          | 0/1000 [00:00<?, ?it/s]"
      ]
     },
     "metadata": {},
     "output_type": "display_data"
    },
    {
     "data": {
      "application/vnd.jupyter.widget-view+json": {
       "model_id": "e036126cb5064083a3f2aed979fe7c01",
       "version_major": 2,
       "version_minor": 0
      },
      "text/plain": [
       "  0%|          | 0/1000 [00:00<?, ?it/s]"
      ]
     },
     "metadata": {},
     "output_type": "display_data"
    },
    {
     "data": {
      "application/vnd.jupyter.widget-view+json": {
       "model_id": "149d0bc24b33491882922ea933bf6e01",
       "version_major": 2,
       "version_minor": 0
      },
      "text/plain": [
       "  0%|          | 0/1000 [00:00<?, ?it/s]"
      ]
     },
     "metadata": {},
     "output_type": "display_data"
    },
    {
     "data": {
      "application/vnd.jupyter.widget-view+json": {
       "model_id": "4330534bd4024fbba69a389659093e60",
       "version_major": 2,
       "version_minor": 0
      },
      "text/plain": [
       "  0%|          | 0/1000 [00:00<?, ?it/s]"
      ]
     },
     "metadata": {},
     "output_type": "display_data"
    }
   ],
   "source": [
    "model = DynamicalModel(states=jnp.array(states),actions=jnp.array(actions))\n",
    "model.optimize()"
   ]
  },
  {
   "cell_type": "code",
   "execution_count": 40,
   "id": "1167530a-4bee-4cf4-b18b-8f07c82fa7a7",
   "metadata": {},
   "outputs": [],
   "source": [
    "# Now do a rollout with this model\n",
    "# Generate an initial state\n",
    "x, _ = env.reset()\n",
    "key, subkey = jr.split(key)\n",
    "# Generate an initial (action\n",
    "u = exploration_policy(x,timestep,subkey)"
   ]
  },
  {
   "cell_type": "code",
   "execution_count": 41,
   "id": "e75ca6d4-e753-4159-ad9c-b6b5b27e589e",
   "metadata": {},
   "outputs": [],
   "source": [
    "initial_particles = model.get_samples(key, jnp.array([x]), jnp.array([u]), num_particles)"
   ]
  },
  {
   "cell_type": "code",
   "execution_count": 42,
   "id": "35c553e7-8a9c-459d-9a10-af8b680acad3",
   "metadata": {},
   "outputs": [],
   "source": [
    "objective_fun = Partial(rollout,init_samples=initial_particles,model=model,timesteps=timesteps)"
   ]
  },
  {
   "cell_type": "code",
   "execution_count": 43,
   "id": "44658a42-2ed2-440f-b7f1-f9c3b66b9ad9",
   "metadata": {},
   "outputs": [
    {
     "name": "stdout",
     "output_type": "stream",
     "text": [
      "CPU times: user 3min 26s, sys: 20 s, total: 3min 46s\n",
      "Wall time: 2min 28s\n"
     ]
    }
   ],
   "source": [
    "%%time\n",
    "policy,history = fit_controller(policy=policy,objective=objective_fun,optim=optimizer,num_iters=100)"
   ]
  },
  {
   "cell_type": "code",
   "execution_count": 45,
   "id": "bd1d4f83-b00b-4d1b-b53c-5e3234c3851e",
   "metadata": {},
   "outputs": [
    {
     "data": {
      "image/png": "[encoded data removed]",
      "text/plain": [
       "<Figure size 640x480 with 1 Axes>"
      ]
     },
     "metadata": {
      "image/png": {
       "height": 418,
       "width": 425
      }
     },
     "output_type": "display_data"
    }
   ],
   "source": [
    "# Now try this policy on the real system\n",
    "x, _ = env_test.reset()\n",
    "key, subkey = jr.split(key)\n",
    "u = policy(x,timestep,subkey)\n",
    "# Randomly sample some points\n",
    "states.append(x)\n",
    "actions.append(u)\n",
    "img = plt.imshow(env_test.render()) # only call this once\n",
    "for timestep in np.linspace(0,T_exploration,int(T_exploration/sim_timestep)+1):\n",
    "    z = env_test.step(np.array(u))\n",
    "    x = z[0]\n",
    "    r = z[1]\n",
    "    key, subkey = jr.split(key)\n",
    "    u = policy(x,timestep,subkey)\n",
    "    states.append(x)\n",
    "    actions.append(u)\n",
    "    img.set_data(env_test.render()) # just update the data\n",
    "    display.display(plt.gcf())\n",
    "    display.clear_output(wait=True)"
   ]
  },
  {
   "cell_type": "code",
   "execution_count": 48,
   "id": "f4ef3f05-b612-48ad-a6a7-d1955e32f050",
   "metadata": {},
   "outputs": [
    {
     "name": "stdout",
     "output_type": "stream",
     "text": [
      "It01hSlVj40SnZLMTTIgZo46LwxLCVg7w28u7y0iquLeqvI6WEKApkgBfBgHk3BeZodKUnUFG9qoldAZbR3NZ4iREGfJrytkgmSr\n"
     ]
    }
   ],
   "source": [
    "import random\n",
    "import string\n",
    "\n",
    "def generate_random_string(length):\n",
    "    characters = string.ascii_letters + string.digits\n",
    "    return ''.join(random.choice(characters) for i in range(length))\n",
    "\n",
    "random_string = generate_random_string(100)\n",
    "print(random_string)"
   ]
  },
  {
   "cell_type": "code",
   "execution_count": 49,
   "id": "f1bb5502-6826-48cb-815e-891cd06969f6",
   "metadata": {},
   "outputs": [
    {
     "data": {
      "text/plain": [
       "'Zo46LwxLCVg7w28u7y0iquLeqvI6WEKApkgBfBgHk3BeZodKUnUFG9qoldAZbR3NZ4iREGfJrytkgmSr'"
      ]
     },
     "execution_count": 49,
     "metadata": {},
     "output_type": "execute_result"
    }
   ],
   "source": [
    "random_string[-80:]"
   ]
  },
  {
   "cell_type": "code",
   "execution_count": null,
   "id": "f3be42b0-7716-4c65-8498-391ae15fc534",
   "metadata": {},
   "outputs": [],
   "source": []
  }
 ],
 "metadata": {
  "kernelspec": {
   "display_name": "Python 3 (ipykernel)",
   "language": "python",
   "name": "python3"
  },
  "language_info": {
   "codemirror_mode": {
    "name": "ipython",
    "version": 3
   },
   "file_extension": ".py",
   "mimetype": "text/x-python",
   "name": "python",
   "nbconvert_exporter": "python",
   "pygments_lexer": "ipython3",
   "version": "3.11.11"
  }
 },
 "nbformat": 4,
 "nbformat_minor": 5
}
