{
 "cells": [
  {
   "cell_type": "markdown",
   "id": "f8e9abc4",
   "metadata": {},
   "source": [
    "# Testing the PILCO framework"
   ]
  },
  {
   "cell_type": "code",
   "execution_count": 1,
   "id": "b17459c9",
   "metadata": {},
   "outputs": [],
   "source": [
    "# %load ~/dev/marthaler/header.py\n",
    "%matplotlib inline\n",
    "%config InlineBackend.figure_format = 'retina'\n",
    "\n",
    "%load_ext autoreload\n",
    "%autoreload 2"
   ]
  },
  {
   "cell_type": "code",
   "execution_count": 51,
   "id": "472b1081",
   "metadata": {},
   "outputs": [],
   "source": [
    "# Enable Float64 for more stable matrix inversions.\n",
    "import jax\n",
    "from jax import Array, config\n",
    "import jax.numpy as jnp\n",
    "from jax.tree_util import Partial\n",
    "import numpy as np\n",
    "import jax.random as jr\n",
    "from jaxtyping import ArrayLike, install_import_hook, Array, Float, Int, PyTree  \n",
    "import matplotlib as mpl\n",
    "import matplotlib.pyplot as plt\n",
    "\n",
    "config.update(\"jax_enable_x64\", True)\n",
    "\n",
    "key = jr.key(123)\n",
    "\n",
    "cols = mpl.rcParams[\"axes.prop_cycle\"].by_key()[\"color\"]"
   ]
  },
  {
   "cell_type": "code",
   "execution_count": 3,
   "id": "65f9622e-a274-4455-b8e1-9e140aaa179e",
   "metadata": {},
   "outputs": [],
   "source": [
    "import gymnasium as gym"
   ]
  },
  {
   "cell_type": "code",
   "execution_count": 4,
   "id": "fe0be395-3a8b-4d20-938c-17ce1dbde1a2",
   "metadata": {},
   "outputs": [],
   "source": [
    "from controllers import RandomController, Sum_of_Sinusoids, set_sos_params, LinearPolicy\n",
    "from model_learning.gp_models import MGPR"
   ]
  },
  {
   "cell_type": "code",
   "execution_count": 5,
   "id": "f8e73c67-3fe9-4ecb-a2ad-17fd972a7780",
   "metadata": {},
   "outputs": [],
   "source": [
    "import optax as ox\n",
    "\n",
    "from typing import Tuple"
   ]
  },
  {
   "cell_type": "code",
   "execution_count": 6,
   "id": "5d4feb25-b36f-48aa-a392-582416d4ce0e",
   "metadata": {},
   "outputs": [],
   "source": [
    "from IPython import display"
   ]
  },
  {
   "cell_type": "markdown",
   "id": "9a634df7",
   "metadata": {},
   "source": [
    "# Functions"
   ]
  },
  {
   "cell_type": "code",
   "execution_count": 7,
   "id": "c6b20d7c",
   "metadata": {},
   "outputs": [],
   "source": [
    "def cart_pole_cost(\n",
    "    states_sequence: ArrayLike, \n",
    "    target_state: ArrayLike = jnp.array([jnp.pi,0.0]), \n",
    "    lengthscales: ArrayLike = jnp.array([3.0,1.0]),\n",
    "    angle_index:int = 2,\n",
    "    pos_index:int = 0\n",
    ")->Array:\n",
    "    \"\"\"\n",
    "    Cost function given by the combination of the saturated distance between |theta| and 'target angle', and between x and 'target position'.\n",
    "    \"\"\"\n",
    "    x = states_sequence[pos_index]\n",
    "    theta = states_sequence[angle_index]\n",
    "\n",
    "    target_x = target_state[1]\n",
    "    target_theta = target_state[0]\n",
    "\n",
    "    return 1 - jnp.exp(\n",
    "        -(jnp.square((jnp.abs(theta) - target_theta) / lengthscales[0])) - jnp.square((x - target_x) / lengthscales[1])\n",
    "    )"
   ]
  },
  {
   "cell_type": "markdown",
   "id": "fd668a3b-8572-48af-9f17-dc2e09017016",
   "metadata": {},
   "source": [
    "## Globals"
   ]
  },
  {
   "cell_type": "code",
   "execution_count": 8,
   "id": "89c302a1-6c75-457a-a2d3-2900a4b7592a",
   "metadata": {},
   "outputs": [],
   "source": [
    "num_particles = 400"
   ]
  },
  {
   "cell_type": "code",
   "execution_count": 9,
   "id": "ff220556-f495-4132-b368-e40580ee2d20",
   "metadata": {},
   "outputs": [],
   "source": [
    "num_trials = 5\n",
    "T_sampling = 0.05\n",
    "T_exploration = 3.0\n",
    "T_control = 3.0\n",
    "sim_timestep = 0.1"
   ]
  },
  {
   "cell_type": "markdown",
   "id": "2c4810d6",
   "metadata": {},
   "source": [
    "## Generate the environments"
   ]
  },
  {
   "cell_type": "code",
   "execution_count": 10,
   "id": "04b1bcf0",
   "metadata": {},
   "outputs": [],
   "source": [
    "env = gym.make(\"InvertedPendulum-v5\")\n",
    "env_test = gym.make(\"InvertedPendulum-v5\", render_mode='rgb_array')"
   ]
  },
  {
   "cell_type": "code",
   "execution_count": 11,
   "id": "4e6fb3ac",
   "metadata": {},
   "outputs": [],
   "source": [
    "action_dim = env.action_space.shape[0]\n",
    "x, _ = env.reset()\n",
    "state_dim = x.shape[0]\n",
    "num_basis = 200\n",
    "umax = 3.0\n",
    "#policy = LinearPolicy(state_dim, action_dim, True, umax)"
   ]
  },
  {
   "cell_type": "code",
   "execution_count": 12,
   "id": "f020d34e",
   "metadata": {},
   "outputs": [],
   "source": [
    "# Initialize a random controller\n",
    "exploration_policy = RandomController(state_dim,action_dim,True,3.0)"
   ]
  },
  {
   "cell_type": "code",
   "execution_count": 13,
   "id": "60662edf",
   "metadata": {},
   "outputs": [],
   "source": [
    "# Randomly sample some points\n",
    "key = jr.key(42)\n",
    "x, _ = env.reset()\n",
    "states = [x]\n",
    "key, subkey = jr.split(key)\n",
    "#u = env.action_space.sample()\n",
    "u = exploration_policy(x,0,subkey)\n",
    "actions = [u]\n",
    "\n",
    "for timestep in np.linspace(0,T_exploration,int(T_exploration/sim_timestep)+1):\n",
    "    z = env.step(np.array(u))\n",
    "    x = z[0]\n",
    "    states.append(x)\n",
    "    key, subkey = jr.split(key)\n",
    "    #u = env.action_space.sample()\n",
    "    u = exploration_policy(x,timestep,subkey)\n",
    "    actions.append(u)"
   ]
  },
  {
   "cell_type": "code",
   "execution_count": 14,
   "id": "44177063",
   "metadata": {},
   "outputs": [],
   "source": [
    "model = MGPR(states=jnp.array(states),actions=jnp.array(actions))"
   ]
  },
  {
   "cell_type": "code",
   "execution_count": 15,
   "id": "383ad47f-3f83-4c15-ac05-33da31a05a31",
   "metadata": {},
   "outputs": [
    {
     "data": {
      "text/plain": [
       "Array(14.90914297, dtype=float64)"
      ]
     },
     "execution_count": 15,
     "metadata": {},
     "output_type": "execute_result"
    }
   ],
   "source": [
    "-model.build_gp(model.models[0]).log_probability(model.training_outputs[:,0])"
   ]
  },
  {
   "cell_type": "code",
   "execution_count": 16,
   "id": "cce380ca",
   "metadata": {},
   "outputs": [],
   "source": [
    "# Should vmap the optimization\n",
    "model.optimize()"
   ]
  },
  {
   "cell_type": "code",
   "execution_count": 17,
   "id": "4b8bc905-4e8f-409c-947b-397cc77c5fbc",
   "metadata": {},
   "outputs": [
    {
     "data": {
      "text/plain": [
       "Array(-86.66948246, dtype=float64)"
      ]
     },
     "execution_count": 17,
     "metadata": {},
     "output_type": "execute_result"
    }
   ],
   "source": [
    "-model.build_gp(model.models[0]).log_probability(model.training_outputs[:,0])"
   ]
  },
  {
   "cell_type": "markdown",
   "id": "1553876c-c711-47f9-833c-f42c56eccea1",
   "metadata": {},
   "source": [
    "### Rollout"
   ]
  },
  {
   "cell_type": "code",
   "execution_count": 18,
   "id": "4695266b",
   "metadata": {},
   "outputs": [],
   "source": [
    "# Now do a rollout with this model\n",
    "# Generate an initial state\n",
    "x, _ = env.reset()\n",
    "key, subkey = jr.split(key)\n",
    "# Generate an initial action\n",
    "u = exploration_policy(x,timestep,subkey)"
   ]
  },
  {
   "cell_type": "code",
   "execution_count": 19,
   "id": "b5c303f0",
   "metadata": {},
   "outputs": [],
   "source": [
    "# initialize some particles\n",
    "initial_particles = model.get_samples(key, jnp.array([x]), jnp.array([u]), num_particles)"
   ]
  },
  {
   "cell_type": "code",
   "execution_count": 20,
   "id": "0e9bf3e1-f0e3-408e-91d7-b0563cf16533",
   "metadata": {},
   "outputs": [],
   "source": [
    "policy = LinearPolicy(state_dim, action_dim, True, umax)"
   ]
  },
  {
   "cell_type": "code",
   "execution_count": 24,
   "id": "1c9bec2c-a0cd-45ea-b662-3788f86f506f",
   "metadata": {},
   "outputs": [],
   "source": [
    "import equinox as eqx"
   ]
  },
  {
   "cell_type": "code",
   "execution_count": 42,
   "id": "d9a62f94-768d-44c3-83ea-9b0d298957f1",
   "metadata": {},
   "outputs": [],
   "source": [
    "@eqx.filter_jit\n",
    "@eqx.debug.assert_max_traces(max_traces=1)\n",
    "def rollout(\n",
    "    policy: eqx.Module,\n",
    "    init_samples: ArrayLike,\n",
    "    model: eqx.Module,\n",
    "    timesteps: ArrayLike,\n",
    "    key: ArrayLike = jr.key(123),\n",
    ")->float:\n",
    "    policy_params, policy_static = eqx.partition(policy, eqx.is_array)\n",
    "    \n",
    "    def one_rollout_step(carry, t):\n",
    "        policy_params, key, samples, total_cost = carry\n",
    "        policy = eqx.combine(policy_params, policy_static)\n",
    "        actions = jax.vmap(policy)(samples,jnp.tile(t,num_particles))\n",
    "    \n",
    "        key, subkey = jr.split(key)\n",
    "        samples = model.get_samples(key, samples, actions, 1)\n",
    "        cost = jnp.sum(jax.vmap(cart_pole_cost)(jnp.hstack((samples, actions))))\n",
    "        return (policy_params,key,samples,total_cost+cost), cost\n",
    "    \n",
    "    total_cost = 0\n",
    "    (policy_params,key,samples,total_cost), result = jax.lax.scan(\n",
    "        one_rollout_step, (policy_params,key,init_samples,total_cost), timesteps\n",
    "    )\n",
    "    return total_cost/len(timesteps)"
   ]
  },
  {
   "cell_type": "code",
   "execution_count": 43,
   "id": "1e28c5bc-f756-4702-822c-3ff5e5b30dbd",
   "metadata": {},
   "outputs": [],
   "source": [
    "control_horizon = int(T_control/T_sampling)"
   ]
  },
  {
   "cell_type": "code",
   "execution_count": 44,
   "id": "8e4c0784-2207-4701-953a-330dc6cd895c",
   "metadata": {},
   "outputs": [
    {
     "name": "stdout",
     "output_type": "stream",
     "text": [
      "CPU times: user 582 ms, sys: 62.1 ms, total: 644 ms\n",
      "Wall time: 255 ms\n"
     ]
    },
    {
     "data": {
      "text/plain": [
       "Array(310.80594468, dtype=float64)"
      ]
     },
     "execution_count": 44,
     "metadata": {},
     "output_type": "execute_result"
    }
   ],
   "source": [
    "%%time\n",
    "rollout(policy,initial_particles,model,jnp.arange(control_horizon))"
   ]
  },
  {
   "cell_type": "code",
   "execution_count": 49,
   "id": "f69a69d1-6f01-4b45-b35c-3ab32b8dc2bf",
   "metadata": {},
   "outputs": [],
   "source": [
    "optimizer = ox.adam(learning_rate=ox.linear_schedule(init_value=1e-2, end_value=1e-6, transition_steps=100))"
   ]
  },
  {
   "cell_type": "code",
   "execution_count": 61,
   "id": "a2fe2279-1c48-42bb-bd87-cf0560d78383",
   "metadata": {},
   "outputs": [],
   "source": [
    "def fit_controller(  # noqa: PLR0913\n",
    "    *,\n",
    "    policy: eqx.Module,\n",
    "    samples: ArrayLike,\n",
    "    timesteps: ArrayLike,\n",
    "    gp_model: eqx.Module,\n",
    "    optim: ox.GradientTransformation,\n",
    "    key: ArrayLike = jr.PRNGKey(42),\n",
    "    num_iters: int = 100,\n",
    "    unroll: int = 5,\n",
    ")->Tuple[eqx.Module,Array]:\n",
    "    \n",
    "    opt_state = optim.init(eqx.filter(policy,eqx.is_array))\n",
    "    \n",
    "    # Mini-batch random keys to scan over.\n",
    "    iter_keys = jr.split(key, num_iters)\n",
    "    \n",
    "    # Optimisation step.\n",
    "    @eqx.filter_jit\n",
    "    def make_step(\n",
    "        policy: eqx.Module,\n",
    "        opt_state: PyTree,\n",
    "    )->Tuple[eqx.Module,PyTree, float]:\n",
    "        loss_value, loss_gradient = eqx.filter_value_and_grad(rollout)(policy,samples,gp_model,timesteps)\n",
    "        updates, opt_state = optim.update(loss_gradient, opt_state, eqx.filter(policy, eqx.is_array))\n",
    "        policy = eqx.apply_updates(policy, updates)\n",
    "        return policy, opt_state, loss_value\n",
    "    \n",
    "    # Optimisation loop.\n",
    "    #(return_policy, _), history = jax.lax.scan(step, (policy, opt_state), (iter_keys), unroll=unroll)\n",
    "    for step in range(num_iters):\n",
    "        policy, opt_state, train_loss = make_step(policy,opt_state)\n",
    "        if (step % 100) == 0 or (step == num_iters - 1):\n",
    "            print(\n",
    "                f\"{step=}, train_loss={train_loss.item()}, \"\n",
    "            )\n",
    "        \n",
    "\n",
    "    #return return_policy, history\n",
    "    return policy"
   ]
  },
  {
   "cell_type": "code",
   "execution_count": 62,
   "id": "ee4f7450-5fd4-4154-b968-b2f7362469e1",
   "metadata": {},
   "outputs": [
    {
     "name": "stdout",
     "output_type": "stream",
     "text": [
      "step=0, train_loss=310.805944676038, \n",
      "step=100, train_loss=286.0337723402651, \n",
      "step=200, train_loss=286.0285981737515, \n",
      "step=300, train_loss=286.0234812556697, \n",
      "step=400, train_loss=286.0183832524752, \n",
      "step=500, train_loss=286.0132939653742, \n",
      "step=600, train_loss=286.0082094419219, \n",
      "step=700, train_loss=286.00312777742965, \n",
      "step=800, train_loss=285.99804792200655, \n",
      "step=900, train_loss=285.99296924131454, \n",
      "step=999, train_loss=285.9879421020233, \n",
      "CPU times: user 1min 34s, sys: 1min 45s, total: 3min 19s\n",
      "Wall time: 39.1 s\n"
     ]
    }
   ],
   "source": [
    "%%time\n",
    "policy = fit_controller(\n",
    "    policy=policy,\n",
    "    samples=initial_particles,\n",
    "    timesteps=jnp.arange(control_horizon),\n",
    "    gp_model=model,\n",
    "    optim=optimizer,\n",
    "    num_iters=1000\n",
    ")"
   ]
  },
  {
   "cell_type": "code",
   "execution_count": 64,
   "id": "045b5e94-3505-49c6-91a4-680cecd28aed",
   "metadata": {},
   "outputs": [],
   "source": [
    "params = eqx.filter(policy,eqx.is_array)"
   ]
  },
  {
   "cell_type": "code",
   "execution_count": 67,
   "id": "2f4a8cc1-111c-4201-84e3-5dc906219a16",
   "metadata": {},
   "outputs": [
    {
     "data": {
      "text/plain": [
       "(Array([[0.24632846, 0.65982197, 0.70410214, 0.76221338]], dtype=float64),\n",
       " Array([[0.68457738]], dtype=float64))"
      ]
     },
     "execution_count": 67,
     "metadata": {},
     "output_type": "execute_result"
    }
   ],
   "source": [
    "params.phi, params.offset"
   ]
  },
  {
   "cell_type": "code",
   "execution_count": 68,
   "id": "5810cc67-8fa1-412f-9215-abd923695599",
   "metadata": {},
   "outputs": [],
   "source": [
    "new_params = eqx.filter(new_policy,eqx.is_array)"
   ]
  },
  {
   "cell_type": "code",
   "execution_count": 69,
   "id": "d2cbb004-a96f-4801-965f-790dbaea06b8",
   "metadata": {},
   "outputs": [
    {
     "data": {
      "text/plain": [
       "(Array([[0.49488659, 1.09264719, 1.24826368, 1.30008048]], dtype=float64),\n",
       " Array([[1.03776657]], dtype=float64))"
      ]
     },
     "execution_count": 69,
     "metadata": {},
     "output_type": "execute_result"
    }
   ],
   "source": [
    "new_params.phi, new_params.offset"
   ]
  },
  {
   "cell_type": "code",
   "execution_count": 70,
   "id": "48a03a8c-b40a-4a2b-8dd5-d435544ab26b",
   "metadata": {},
   "outputs": [
    {
     "data": {
      "image/png": "[encoded data removed]",
      "text/plain": [
       "<Figure size 640x480 with 1 Axes>"
      ]
     },
     "metadata": {
      "image/png": {
       "height": 418,
       "width": 425
      }
     },
     "output_type": "display_data"
    }
   ],
   "source": [
    "# Now try this policy on the real system\n",
    "x, _ = env_test.reset()\n",
    "key, subkey = jr.split(key)\n",
    "u = policy(x,timestep,subkey)\n",
    "# Randomly sample some points\n",
    "states.append(x)\n",
    "actions.append(u)\n",
    "img = plt.imshow(env_test.render()) # only call this once\n",
    "for timestep in np.linspace(0,T_exploration,int(T_exploration/sim_timestep)+1):\n",
    "    z = env_test.step(np.array(u))\n",
    "    x = z[0]\n",
    "    r = z[1]\n",
    "    key, subkey = jr.split(key)\n",
    "    u = policy(x,timestep,subkey)\n",
    "    states.append(x)\n",
    "    actions.append(u)\n",
    "    img.set_data(env_test.render()) # just update the data\n",
    "    display.display(plt.gcf())\n",
    "    display.clear_output(wait=True)"
   ]
  },
  {
   "cell_type": "code",
   "execution_count": 72,
   "id": "7cf4c9a8-9bb6-42fa-96a7-57289b4057fa",
   "metadata": {},
   "outputs": [
    {
     "name": "stdout",
     "output_type": "stream",
     "text": [
      "8.019310336036657\n",
      "-119.88180930274531\n"
     ]
    }
   ],
   "source": [
    "model = MGPR(states=jnp.array(states),actions=jnp.array(actions))\n",
    "print(-model.build_gp(model.models[0]).log_probability(model.training_outputs[:,0]))\n",
    "model.optimize()\n",
    "print(-model.build_gp(model.models[0]).log_probability(model.training_outputs[:,0]))"
   ]
  },
  {
   "cell_type": "code",
   "execution_count": 73,
   "id": "93a312c1-309d-4450-9a84-ee60d31285fb",
   "metadata": {},
   "outputs": [
    {
     "data": {
      "text/plain": [
       "64"
      ]
     },
     "execution_count": 73,
     "metadata": {},
     "output_type": "execute_result"
    }
   ],
   "source": [
    "len(states)"
   ]
  },
  {
   "cell_type": "code",
   "execution_count": 74,
   "id": "9dad61aa-8574-4e7c-9cee-8103db1f9ab8",
   "metadata": {},
   "outputs": [],
   "source": [
    "# Now do a rollout with this model\n",
    "# Generate an initial state\n",
    "x, _ = env.reset()\n",
    "key, subkey = jr.split(key)\n",
    "# Generate an initial (action\n",
    "u = exploration_policy(x,timestep,subkey)"
   ]
  },
  {
   "cell_type": "code",
   "execution_count": 75,
   "id": "0f32043a-6bb3-4b27-9b46-07672916c1df",
   "metadata": {},
   "outputs": [],
   "source": [
    "initial_particles = model.get_samples(key, jnp.array([x]), jnp.array([u]), num_particles)"
   ]
  },
  {
   "cell_type": "code",
   "execution_count": 34,
   "id": "b2eae214-d5f8-4b31-bad1-62f34eeb3348",
   "metadata": {},
   "outputs": [],
   "source": [
    "objective_fun = Partial(rollout,init_samples=initial_particles,model=model,timesteps=timesteps)"
   ]
  },
  {
   "cell_type": "code",
   "execution_count": 35,
   "id": "1f2f84aa-4614-4617-aa2b-71e308c439ce",
   "metadata": {},
   "outputs": [
    {
     "name": "stdout",
     "output_type": "stream",
     "text": [
      "CPU times: user 2min 10s, sys: 14 s, total: 2min 24s\n",
      "Wall time: 1min 33s\n"
     ]
    }
   ],
   "source": [
    "%%time\n",
    "policy,history = fit_controller(policy=policy,objective=objective_fun,optim=optimizer,num_iters=100)"
   ]
  },
  {
   "cell_type": "code",
   "execution_count": 36,
   "id": "786d7558-d45c-4d89-8231-d718839162e8",
   "metadata": {},
   "outputs": [
    {
     "data": {
      "image/png": "[encoded data removed]",
      "text/plain": [
       "<Figure size 640x480 with 1 Axes>"
      ]
     },
     "metadata": {
      "image/png": {
       "height": 418,
       "width": 425
      }
     },
     "output_type": "display_data"
    }
   ],
   "source": [
    "# Now try this policy on the real system\n",
    "x, _ = env_test.reset()\n",
    "key, subkey = jr.split(key)\n",
    "u = policy(x,timestep,subkey)\n",
    "# Randomly sample some points\n",
    "states.append(x)\n",
    "actions.append(u)\n",
    "img = plt.imshow(env_test.render()) # only call this once\n",
    "for timestep in np.linspace(0,T_exploration,int(T_exploration/sim_timestep)+1):\n",
    "    z = env_test.step(np.array(u))\n",
    "    x = z[0]\n",
    "    r = z[1]\n",
    "    key, subkey = jr.split(key)\n",
    "    u = policy(x,timestep,subkey)\n",
    "    states.append(x)\n",
    "    actions.append(u)\n",
    "    img.set_data(env_test.render()) # just update the data\n",
    "    display.display(plt.gcf())\n",
    "    display.clear_output(wait=True)"
   ]
  },
  {
   "cell_type": "code",
   "execution_count": 39,
   "id": "7ddc30cd-fb2d-403b-acb0-25aa7f4f8dc3",
   "metadata": {},
   "outputs": [
    {
     "data": {
      "application/vnd.jupyter.widget-view+json": {
       "model_id": "2a90aa405f8545caaf385ded6f9a7a29",
       "version_major": 2,
       "version_minor": 0
      },
      "text/plain": [
       "  0%|          | 0/1000 [00:00<?, ?it/s]"
      ]
     },
     "metadata": {},
     "output_type": "display_data"
    },
    {
     "data": {
      "application/vnd.jupyter.widget-view+json": {
       "model_id": "e036126cb5064083a3f2aed979fe7c01",
       "version_major": 2,
       "version_minor": 0
      },
      "text/plain": [
       "  0%|          | 0/1000 [00:00<?, ?it/s]"
      ]
     },
     "metadata": {},
     "output_type": "display_data"
    },
    {
     "data": {
      "application/vnd.jupyter.widget-view+json": {
       "model_id": "149d0bc24b33491882922ea933bf6e01",
       "version_major": 2,
       "version_minor": 0
      },
      "text/plain": [
       "  0%|          | 0/1000 [00:00<?, ?it/s]"
      ]
     },
     "metadata": {},
     "output_type": "display_data"
    },
    {
     "data": {
      "application/vnd.jupyter.widget-view+json": {
       "model_id": "4330534bd4024fbba69a389659093e60",
       "version_major": 2,
       "version_minor": 0
      },
      "text/plain": [
       "  0%|          | 0/1000 [00:00<?, ?it/s]"
      ]
     },
     "metadata": {},
     "output_type": "display_data"
    }
   ],
   "source": [
    "model = DynamicalModel(states=jnp.array(states),actions=jnp.array(actions))\n",
    "model.optimize()"
   ]
  },
  {
   "cell_type": "code",
   "execution_count": 40,
   "id": "1167530a-4bee-4cf4-b18b-8f07c82fa7a7",
   "metadata": {},
   "outputs": [],
   "source": [
    "# Now do a rollout with this model\n",
    "# Generate an initial state\n",
    "x, _ = env.reset()\n",
    "key, subkey = jr.split(key)\n",
    "# Generate an initial (action\n",
    "u = exploration_policy(x,timestep,subkey)"
   ]
  },
  {
   "cell_type": "code",
   "execution_count": 41,
   "id": "e75ca6d4-e753-4159-ad9c-b6b5b27e589e",
   "metadata": {},
   "outputs": [],
   "source": [
    "initial_particles = model.get_samples(key, jnp.array([x]), jnp.array([u]), num_particles)"
   ]
  },
  {
   "cell_type": "code",
   "execution_count": 42,
   "id": "35c553e7-8a9c-459d-9a10-af8b680acad3",
   "metadata": {},
   "outputs": [],
   "source": [
    "objective_fun = Partial(rollout,init_samples=initial_particles,model=model,timesteps=timesteps)"
   ]
  },
  {
   "cell_type": "code",
   "execution_count": 43,
   "id": "44658a42-2ed2-440f-b7f1-f9c3b66b9ad9",
   "metadata": {},
   "outputs": [
    {
     "name": "stdout",
     "output_type": "stream",
     "text": [
      "CPU times: user 3min 26s, sys: 20 s, total: 3min 46s\n",
      "Wall time: 2min 28s\n"
     ]
    }
   ],
   "source": [
    "%%time\n",
    "policy,history = fit_controller(policy=policy,objective=objective_fun,optim=optimizer,num_iters=100)"
   ]
  },
  {
   "cell_type": "code",
   "execution_count": 45,
   "id": "bd1d4f83-b00b-4d1b-b53c-5e3234c3851e",
   "metadata": {},
   "outputs": [
    {
     "data": {
      "image/png": "[encoded data removed]",
      "text/plain": [
       "<Figure size 640x480 with 1 Axes>"
      ]
     },
     "metadata": {
      "image/png": {
       "height": 418,
       "width": 425
      }
     },
     "output_type": "display_data"
    }
   ],
   "source": [
    "# Now try this policy on the real system\n",
    "x, _ = env_test.reset()\n",
    "key, subkey = jr.split(key)\n",
    "u = policy(x,timestep,subkey)\n",
    "# Randomly sample some points\n",
    "states.append(x)\n",
    "actions.append(u)\n",
    "img = plt.imshow(env_test.render()) # only call this once\n",
    "for timestep in np.linspace(0,T_exploration,int(T_exploration/sim_timestep)+1):\n",
    "    z = env_test.step(np.array(u))\n",
    "    x = z[0]\n",
    "    r = z[1]\n",
    "    key, subkey = jr.split(key)\n",
    "    u = policy(x,timestep,subkey)\n",
    "    states.append(x)\n",
    "    actions.append(u)\n",
    "    img.set_data(env_test.render()) # just update the data\n",
    "    display.display(plt.gcf())\n",
    "    display.clear_output(wait=True)"
   ]
  },
  {
   "cell_type": "code",
   "execution_count": 48,
   "id": "f4ef3f05-b612-48ad-a6a7-d1955e32f050",
   "metadata": {},
   "outputs": [
    {
     "name": "stdout",
     "output_type": "stream",
     "text": [
      "It01hSlVj40SnZLMTTIgZo46LwxLCVg7w28u7y0iquLeqvI6WEKApkgBfBgHk3BeZodKUnUFG9qoldAZbR3NZ4iREGfJrytkgmSr\n"
     ]
    }
   ],
   "source": [
    "import random\n",
    "import string\n",
    "\n",
    "def generate_random_string(length):\n",
    "    characters = string.ascii_letters + string.digits\n",
    "    return ''.join(random.choice(characters) for i in range(length))\n",
    "\n",
    "random_string = generate_random_string(100)\n",
    "print(random_string)"
   ]
  },
  {
   "cell_type": "code",
   "execution_count": 49,
   "id": "f1bb5502-6826-48cb-815e-891cd06969f6",
   "metadata": {},
   "outputs": [
    {
     "data": {
      "text/plain": [
       "'Zo46LwxLCVg7w28u7y0iquLeqvI6WEKApkgBfBgHk3BeZodKUnUFG9qoldAZbR3NZ4iREGfJrytkgmSr'"
      ]
     },
     "execution_count": 49,
     "metadata": {},
     "output_type": "execute_result"
    }
   ],
   "source": [
    "random_string[-80:]"
   ]
  },
  {
   "cell_type": "code",
   "execution_count": 49,
   "id": "f3be42b0-7716-4c65-8498-391ae15fc534",
   "metadata": {},
   "outputs": [
    {
     "data": {
      "text/plain": [
       "(100, 2)"
      ]
     },
     "execution_count": 49,
     "metadata": {},
     "output_type": "execute_result"
    }
   ],
   "source": [
    "np.random.uniform(-5, 5, (100, 2)).shape"
   ]
  },
  {
   "cell_type": "code",
   "execution_count": 50,
   "id": "23dd0330-3169-4735-8be5-3a37a5d7f331",
   "metadata": {},
   "outputs": [],
   "source": [
    "x_grid, y_grid = np.linspace(-5, 5, 100), np.linspace(-5, 5, 50)\n",
    "x_, y_ = np.meshgrid(x_grid, y_grid)\n",
    "X_pred = np.vstack((x_.flatten(), y_.flatten())).T"
   ]
  },
  {
   "cell_type": "code",
   "execution_count": 52,
   "id": "3fd08999-d7d0-4b50-b637-f2fd9d25b2dd",
   "metadata": {},
   "outputs": [
    {
     "data": {
      "text/plain": [
       "(5000, 2)"
      ]
     },
     "execution_count": 52,
     "metadata": {},
     "output_type": "execute_result"
    }
   ],
   "source": [
    "X_pred.shape"
   ]
  },
  {
   "cell_type": "code",
   "execution_count": null,
   "id": "39007c4b-5e4d-41f0-899a-64511220f0e3",
   "metadata": {},
   "outputs": [],
   "source": []
  }
 ],
 "metadata": {
  "kernelspec": {
   "display_name": "Python 3 (ipykernel)",
   "language": "python",
   "name": "python3"
  },
  "language_info": {
   "codemirror_mode": {
    "name": "ipython",
    "version": 3
   },
   "file_extension": ".py",
   "mimetype": "text/x-python",
   "name": "python",
   "nbconvert_exporter": "python",
   "pygments_lexer": "ipython3",
   "version": "3.11.11"
  }
 },
 "nbformat": 4,
 "nbformat_minor": 5
}
